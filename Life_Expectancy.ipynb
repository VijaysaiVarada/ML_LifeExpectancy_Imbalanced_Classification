{
 "cells": [
  {
   "cell_type": "markdown",
   "metadata": {},
   "source": [
    "Life Expectancy Data Data\n",
    "\n",
    "Goal : Classifying the low Life expectancy i.e < 50 years based on the given data \n",
    "\n",
    "data shape (2938, 22)\n",
    "\n",
    "categorical : 2 \n",
    "\n",
    " miniority: majority class = 1 : 22\n",
    "\n",
    "missing data :  ~ 7%\n",
    "\n",
    "Evaluation Metric: Precision-Recall\n",
    "\n",
    "Chose Precision recall as this is an imbalanced dataset where i am interested in how well the model classifies less life expectancy ( minority class) i also do not want low life expectancy to be wrongly classified as high and vice versa as that would not be desired  as both classes are important i.e both precision and recall are important and i am least interested in how many number of  the majority classs are correctly classified ( True negative ) \n",
    "\n",
    "Precision recall doesnot include true negatives in the calculation and focusses on the remaining three which i am interested in.\n",
    "\n",
    "F1 scoring provides precision recall.\n"
   ]
  },
  {
   "cell_type": "markdown",
   "metadata": {},
   "source": [
    "naive model \n",
    "\n",
    "Mean Cross-validation scores: 0.08789646486359107\n",
    "\n",
    "Naive Algorithm Test Performance:  0.03571428571428571"
   ]
  },
  {
   "cell_type": "markdown",
   "metadata": {},
   "source": [
    "Best model is xgbc with Oversample using Adaptive Synthetic\n",
    "\n",
    "Best Mean Cross Validation Score is 0.8057486644413295\n",
    "\n",
    "Best Parameters: {'ada__n_neighbors': 3, 'xgbc__learning_rate': 0.6, 'xgbc__max_depth': 4, 'xgbc__min_child_weight': 1, \n",
    "'xgbc__n_estimators': 100, 'xgbc__subsample': 0.8}\n",
    "\n",
    "Train score is 1.0\n",
    "\n",
    "Test score is 0.7234042553191489\n",
    "\n",
    "Val score is 0.775\n",
    "\n",
    "\n"
   ]
  },
  {
   "cell_type": "code",
   "execution_count": 447,
   "metadata": {
    "ExecuteTime": {
     "end_time": "2020-05-03T06:14:09.212456Z",
     "start_time": "2020-05-03T06:14:09.203483Z"
    }
   },
   "outputs": [],
   "source": [
    "import numpy as np\n",
    "import matplotlib.pyplot as plt\n",
    "import pandas as pd\n",
    "import seaborn as sns\n",
    "%matplotlib inline"
   ]
  },
  {
   "cell_type": "markdown",
   "metadata": {},
   "source": [
    "# Data\n"
   ]
  },
  {
   "cell_type": "code",
   "execution_count": 448,
   "metadata": {
    "ExecuteTime": {
     "end_time": "2020-05-03T06:14:09.618920Z",
     "start_time": "2020-05-03T06:14:09.573041Z"
    }
   },
   "outputs": [
    {
     "data": {
      "text/html": [
       "<div>\n",
       "<style scoped>\n",
       "    .dataframe tbody tr th:only-of-type {\n",
       "        vertical-align: middle;\n",
       "    }\n",
       "\n",
       "    .dataframe tbody tr th {\n",
       "        vertical-align: top;\n",
       "    }\n",
       "\n",
       "    .dataframe thead th {\n",
       "        text-align: right;\n",
       "    }\n",
       "</style>\n",
       "<table border=\"1\" class=\"dataframe\">\n",
       "  <thead>\n",
       "    <tr style=\"text-align: right;\">\n",
       "      <th></th>\n",
       "      <th>Country</th>\n",
       "      <th>Year</th>\n",
       "      <th>Status</th>\n",
       "      <th>Life expectancy</th>\n",
       "      <th>Adult Mortality</th>\n",
       "      <th>infant deaths</th>\n",
       "      <th>Alcohol</th>\n",
       "      <th>percentage expenditure</th>\n",
       "      <th>Hepatitis B</th>\n",
       "      <th>Measles</th>\n",
       "      <th>...</th>\n",
       "      <th>Polio</th>\n",
       "      <th>Total expenditure</th>\n",
       "      <th>Diphtheria</th>\n",
       "      <th>HIV/AIDS</th>\n",
       "      <th>GDP</th>\n",
       "      <th>Population</th>\n",
       "      <th>thinness  1-19 years</th>\n",
       "      <th>thinness 5-9 years</th>\n",
       "      <th>Income composition of resources</th>\n",
       "      <th>Schooling</th>\n",
       "    </tr>\n",
       "  </thead>\n",
       "  <tbody>\n",
       "    <tr>\n",
       "      <th>0</th>\n",
       "      <td>Afghanistan</td>\n",
       "      <td>2015</td>\n",
       "      <td>Developing</td>\n",
       "      <td>65.0</td>\n",
       "      <td>263.0</td>\n",
       "      <td>62</td>\n",
       "      <td>0.01</td>\n",
       "      <td>71.279624</td>\n",
       "      <td>65.0</td>\n",
       "      <td>1154</td>\n",
       "      <td>...</td>\n",
       "      <td>6.0</td>\n",
       "      <td>8.16</td>\n",
       "      <td>65.0</td>\n",
       "      <td>0.1</td>\n",
       "      <td>584.259210</td>\n",
       "      <td>33736494.0</td>\n",
       "      <td>17.2</td>\n",
       "      <td>17.3</td>\n",
       "      <td>0.479</td>\n",
       "      <td>10.1</td>\n",
       "    </tr>\n",
       "    <tr>\n",
       "      <th>1</th>\n",
       "      <td>Afghanistan</td>\n",
       "      <td>2014</td>\n",
       "      <td>Developing</td>\n",
       "      <td>59.9</td>\n",
       "      <td>271.0</td>\n",
       "      <td>64</td>\n",
       "      <td>0.01</td>\n",
       "      <td>73.523582</td>\n",
       "      <td>62.0</td>\n",
       "      <td>492</td>\n",
       "      <td>...</td>\n",
       "      <td>58.0</td>\n",
       "      <td>8.18</td>\n",
       "      <td>62.0</td>\n",
       "      <td>0.1</td>\n",
       "      <td>612.696514</td>\n",
       "      <td>327582.0</td>\n",
       "      <td>17.5</td>\n",
       "      <td>17.5</td>\n",
       "      <td>0.476</td>\n",
       "      <td>10.0</td>\n",
       "    </tr>\n",
       "    <tr>\n",
       "      <th>2</th>\n",
       "      <td>Afghanistan</td>\n",
       "      <td>2013</td>\n",
       "      <td>Developing</td>\n",
       "      <td>59.9</td>\n",
       "      <td>268.0</td>\n",
       "      <td>66</td>\n",
       "      <td>0.01</td>\n",
       "      <td>73.219243</td>\n",
       "      <td>64.0</td>\n",
       "      <td>430</td>\n",
       "      <td>...</td>\n",
       "      <td>62.0</td>\n",
       "      <td>8.13</td>\n",
       "      <td>64.0</td>\n",
       "      <td>0.1</td>\n",
       "      <td>631.744976</td>\n",
       "      <td>31731688.0</td>\n",
       "      <td>17.7</td>\n",
       "      <td>17.7</td>\n",
       "      <td>0.470</td>\n",
       "      <td>9.9</td>\n",
       "    </tr>\n",
       "    <tr>\n",
       "      <th>3</th>\n",
       "      <td>Afghanistan</td>\n",
       "      <td>2012</td>\n",
       "      <td>Developing</td>\n",
       "      <td>59.5</td>\n",
       "      <td>272.0</td>\n",
       "      <td>69</td>\n",
       "      <td>0.01</td>\n",
       "      <td>78.184215</td>\n",
       "      <td>67.0</td>\n",
       "      <td>2787</td>\n",
       "      <td>...</td>\n",
       "      <td>67.0</td>\n",
       "      <td>8.52</td>\n",
       "      <td>67.0</td>\n",
       "      <td>0.1</td>\n",
       "      <td>669.959000</td>\n",
       "      <td>3696958.0</td>\n",
       "      <td>17.9</td>\n",
       "      <td>18.0</td>\n",
       "      <td>0.463</td>\n",
       "      <td>9.8</td>\n",
       "    </tr>\n",
       "    <tr>\n",
       "      <th>4</th>\n",
       "      <td>Afghanistan</td>\n",
       "      <td>2011</td>\n",
       "      <td>Developing</td>\n",
       "      <td>59.2</td>\n",
       "      <td>275.0</td>\n",
       "      <td>71</td>\n",
       "      <td>0.01</td>\n",
       "      <td>7.097109</td>\n",
       "      <td>68.0</td>\n",
       "      <td>3013</td>\n",
       "      <td>...</td>\n",
       "      <td>68.0</td>\n",
       "      <td>7.87</td>\n",
       "      <td>68.0</td>\n",
       "      <td>0.1</td>\n",
       "      <td>63.537231</td>\n",
       "      <td>2978599.0</td>\n",
       "      <td>18.2</td>\n",
       "      <td>18.2</td>\n",
       "      <td>0.454</td>\n",
       "      <td>9.5</td>\n",
       "    </tr>\n",
       "  </tbody>\n",
       "</table>\n",
       "<p>5 rows × 22 columns</p>\n",
       "</div>"
      ],
      "text/plain": [
       "       Country  Year      Status  Life expectancy   Adult Mortality  \\\n",
       "0  Afghanistan  2015  Developing              65.0            263.0   \n",
       "1  Afghanistan  2014  Developing              59.9            271.0   \n",
       "2  Afghanistan  2013  Developing              59.9            268.0   \n",
       "3  Afghanistan  2012  Developing              59.5            272.0   \n",
       "4  Afghanistan  2011  Developing              59.2            275.0   \n",
       "\n",
       "   infant deaths  Alcohol  percentage expenditure  Hepatitis B  Measles   ...  \\\n",
       "0             62     0.01               71.279624         65.0      1154  ...   \n",
       "1             64     0.01               73.523582         62.0       492  ...   \n",
       "2             66     0.01               73.219243         64.0       430  ...   \n",
       "3             69     0.01               78.184215         67.0      2787  ...   \n",
       "4             71     0.01                7.097109         68.0      3013  ...   \n",
       "\n",
       "   Polio  Total expenditure  Diphtheria    HIV/AIDS         GDP  Population  \\\n",
       "0    6.0               8.16         65.0        0.1  584.259210  33736494.0   \n",
       "1   58.0               8.18         62.0        0.1  612.696514    327582.0   \n",
       "2   62.0               8.13         64.0        0.1  631.744976  31731688.0   \n",
       "3   67.0               8.52         67.0        0.1  669.959000   3696958.0   \n",
       "4   68.0               7.87         68.0        0.1   63.537231   2978599.0   \n",
       "\n",
       "    thinness  1-19 years   thinness 5-9 years  \\\n",
       "0                   17.2                 17.3   \n",
       "1                   17.5                 17.5   \n",
       "2                   17.7                 17.7   \n",
       "3                   17.9                 18.0   \n",
       "4                   18.2                 18.2   \n",
       "\n",
       "   Income composition of resources  Schooling  \n",
       "0                            0.479       10.1  \n",
       "1                            0.476       10.0  \n",
       "2                            0.470        9.9  \n",
       "3                            0.463        9.8  \n",
       "4                            0.454        9.5  \n",
       "\n",
       "[5 rows x 22 columns]"
      ]
     },
     "execution_count": 448,
     "metadata": {},
     "output_type": "execute_result"
    }
   ],
   "source": [
    "data1 = pd.read_csv('Life Expectancy Data.csv')\n",
    "\n",
    "data1.head()"
   ]
  },
  {
   "cell_type": "code",
   "execution_count": null,
   "metadata": {},
   "outputs": [],
   "source": []
  },
  {
   "cell_type": "code",
   "execution_count": null,
   "metadata": {},
   "outputs": [],
   "source": []
  },
  {
   "cell_type": "code",
   "execution_count": 449,
   "metadata": {
    "ExecuteTime": {
     "end_time": "2020-05-03T06:14:10.135579Z",
     "start_time": "2020-05-03T06:14:10.120616Z"
    }
   },
   "outputs": [
    {
     "data": {
      "text/plain": [
       "(2938, 22)"
      ]
     },
     "execution_count": 449,
     "metadata": {},
     "output_type": "execute_result"
    }
   ],
   "source": [
    "data1.shape"
   ]
  },
  {
   "cell_type": "code",
   "execution_count": 450,
   "metadata": {
    "ExecuteTime": {
     "end_time": "2020-05-03T06:14:10.338513Z",
     "start_time": "2020-05-03T06:14:10.309593Z"
    }
   },
   "outputs": [
    {
     "name": "stdout",
     "output_type": "stream",
     "text": [
      "<class 'pandas.core.frame.DataFrame'>\n",
      "RangeIndex: 2938 entries, 0 to 2937\n",
      "Data columns (total 22 columns):\n",
      "Country                            2938 non-null object\n",
      "Year                               2938 non-null int64\n",
      "Status                             2938 non-null object\n",
      "Life expectancy                    2928 non-null float64\n",
      "Adult Mortality                    2928 non-null float64\n",
      "infant deaths                      2938 non-null int64\n",
      "Alcohol                            2744 non-null float64\n",
      "percentage expenditure             2938 non-null float64\n",
      "Hepatitis B                        2385 non-null float64\n",
      "Measles                            2938 non-null int64\n",
      " BMI                               2904 non-null float64\n",
      "under-five deaths                  2938 non-null int64\n",
      "Polio                              2919 non-null float64\n",
      "Total expenditure                  2712 non-null float64\n",
      "Diphtheria                         2919 non-null float64\n",
      " HIV/AIDS                          2938 non-null float64\n",
      "GDP                                2490 non-null float64\n",
      "Population                         2286 non-null float64\n",
      " thinness  1-19 years              2904 non-null float64\n",
      " thinness 5-9 years                2904 non-null float64\n",
      "Income composition of resources    2771 non-null float64\n",
      "Schooling                          2775 non-null float64\n",
      "dtypes: float64(16), int64(4), object(2)\n",
      "memory usage: 505.1+ KB\n"
     ]
    }
   ],
   "source": [
    "data1.info()\n"
   ]
  },
  {
   "cell_type": "code",
   "execution_count": 451,
   "metadata": {
    "ExecuteTime": {
     "end_time": "2020-05-03T06:14:10.543416Z",
     "start_time": "2020-05-03T06:14:10.525464Z"
    }
   },
   "outputs": [],
   "source": [
    "#inserting null values\n",
    "data = data1.mask(np.random.random(data1.shape) < .05)"
   ]
  },
  {
   "cell_type": "code",
   "execution_count": 452,
   "metadata": {
    "ExecuteTime": {
     "end_time": "2020-05-03T06:14:10.732053Z",
     "start_time": "2020-05-03T06:14:10.715100Z"
    }
   },
   "outputs": [],
   "source": [
    " data['Life expectancy '] = data1['Life expectancy ']"
   ]
  },
  {
   "cell_type": "code",
   "execution_count": 453,
   "metadata": {
    "ExecuteTime": {
     "end_time": "2020-05-03T06:14:10.920364Z",
     "start_time": "2020-05-03T06:14:10.912392Z"
    }
   },
   "outputs": [
    {
     "data": {
      "text/plain": [
       "Index(['Country', 'Year', 'Status', 'Life expectancy ', 'Adult Mortality',\n",
       "       'infant deaths', 'Alcohol', 'percentage expenditure', 'Hepatitis B',\n",
       "       'Measles ', ' BMI ', 'under-five deaths ', 'Polio', 'Total expenditure',\n",
       "       'Diphtheria ', ' HIV/AIDS', 'GDP', 'Population',\n",
       "       ' thinness  1-19 years', ' thinness 5-9 years',\n",
       "       'Income composition of resources', 'Schooling'],\n",
       "      dtype='object')"
      ]
     },
     "execution_count": 453,
     "metadata": {},
     "output_type": "execute_result"
    }
   ],
   "source": [
    "data.columns"
   ]
  },
  {
   "cell_type": "code",
   "execution_count": 454,
   "metadata": {
    "ExecuteTime": {
     "end_time": "2020-05-03T06:14:11.139063Z",
     "start_time": "2020-05-03T06:14:11.110141Z"
    }
   },
   "outputs": [],
   "source": [
    "data['low Life expectancy'] = 1\n",
    "data.loc[(data['Life expectancy '] > 0) & (data['Life expectancy '] <= 50), 'low Life expectancy'] = 1\n",
    "data.loc[(data['Life expectancy '] > 50) , 'low Life expectancy'] = 0"
   ]
  },
  {
   "cell_type": "code",
   "execution_count": 455,
   "metadata": {
    "ExecuteTime": {
     "end_time": "2020-05-03T06:14:11.533536Z",
     "start_time": "2020-05-03T06:14:11.307142Z"
    }
   },
   "outputs": [
    {
     "data": {
      "text/plain": [
       "<matplotlib.axes._subplots.AxesSubplot at 0x2094fc86c08>"
      ]
     },
     "execution_count": 455,
     "metadata": {},
     "output_type": "execute_result"
    },
    {
     "data": {
      "image/png": "[encoded data removed]",
      "text/plain": [
       "<Figure size 432x288 with 1 Axes>"
      ]
     },
     "metadata": {
      "needs_background": "light"
     },
     "output_type": "display_data"
    }
   ],
   "source": [
    "data['low Life expectancy'].hist()"
   ]
  },
  {
   "cell_type": "code",
   "execution_count": 456,
   "metadata": {
    "ExecuteTime": {
     "end_time": "2020-05-03T06:14:11.565450Z",
     "start_time": "2020-05-03T06:14:11.535531Z"
    }
   },
   "outputs": [
    {
     "data": {
      "text/html": [
       "<div>\n",
       "<style scoped>\n",
       "    .dataframe tbody tr th:only-of-type {\n",
       "        vertical-align: middle;\n",
       "    }\n",
       "\n",
       "    .dataframe tbody tr th {\n",
       "        vertical-align: top;\n",
       "    }\n",
       "\n",
       "    .dataframe thead th {\n",
       "        text-align: right;\n",
       "    }\n",
       "</style>\n",
       "<table border=\"1\" class=\"dataframe\">\n",
       "  <thead>\n",
       "    <tr style=\"text-align: right;\">\n",
       "      <th>col_0</th>\n",
       "      <th>count</th>\n",
       "    </tr>\n",
       "    <tr>\n",
       "      <th>low Life expectancy</th>\n",
       "      <th></th>\n",
       "    </tr>\n",
       "  </thead>\n",
       "  <tbody>\n",
       "    <tr>\n",
       "      <th>0</th>\n",
       "      <td>2801</td>\n",
       "    </tr>\n",
       "    <tr>\n",
       "      <th>1</th>\n",
       "      <td>137</td>\n",
       "    </tr>\n",
       "  </tbody>\n",
       "</table>\n",
       "</div>"
      ],
      "text/plain": [
       "col_0                count\n",
       "low Life expectancy       \n",
       "0                     2801\n",
       "1                      137"
      ]
     },
     "execution_count": 456,
     "metadata": {},
     "output_type": "execute_result"
    }
   ],
   "source": [
    "pd.crosstab(index=data['low Life expectancy'],     # Make a crosstab\n",
    "                      columns=\"count\") "
   ]
  },
  {
   "cell_type": "code",
   "execution_count": 705,
   "metadata": {
    "ExecuteTime": {
     "end_time": "2020-05-03T21:41:31.233919Z",
     "start_time": "2020-05-03T21:41:31.215962Z"
    }
   },
   "outputs": [
    {
     "data": {
      "text/plain": [
       "0.04891110317743663"
      ]
     },
     "execution_count": 705,
     "metadata": {},
     "output_type": "execute_result"
    }
   ],
   "source": [
    "137/2801"
   ]
  },
  {
   "cell_type": "code",
   "execution_count": 458,
   "metadata": {
    "ExecuteTime": {
     "end_time": "2020-05-03T06:14:11.911937Z",
     "start_time": "2020-05-03T06:14:11.895981Z"
    }
   },
   "outputs": [],
   "source": [
    "data.drop('Life expectancy ',axis=1,inplace=True)"
   ]
  },
  {
   "cell_type": "code",
   "execution_count": 459,
   "metadata": {
    "ExecuteTime": {
     "end_time": "2020-05-03T06:14:12.132524Z",
     "start_time": "2020-05-03T06:14:12.088645Z"
    }
   },
   "outputs": [
    {
     "name": "stdout",
     "output_type": "stream",
     "text": [
      "Country ['Afghanistan' 'Albania' nan 'Algeria' 'Angola' 'Antigua and Barbuda'\n",
      " 'Argentina' 'Armenia' 'Australia' 'Austria' 'Azerbaijan' 'Bahamas'\n",
      " 'Bahrain' 'Bangladesh' 'Barbados' 'Belarus' 'Belgium' 'Belize' 'Benin'\n",
      " 'Bhutan'] \n",
      "\n",
      "Year [2015. 2014. 2013. 2012. 2011. 2010. 2009. 2008. 2007. 2006. 2005. 2004.\n",
      " 2003. 2002. 2001. 2000.   nan] \n",
      "\n",
      "Status ['Developing' nan 'Developed'] \n",
      "\n",
      "Adult Mortality [263. 271. 268. 272. 275. 279. 281. 287. 295. 291. 293.   3. 316. 321.\n",
      "  74.   8.  84.  86.  88.  91.] \n",
      "\n",
      "infant deaths [62. 64. 66. 69. 71. 74. 77. 80. nan 84. 85. 87. 88.  0.  1. 21. 20. 19.\n",
      " 67. 75.] \n",
      "\n",
      "Alcohol [0.01 0.03 0.02 4.6  4.51 4.76 5.14 5.37 5.28 5.79 5.61 5.58 5.31 5.16\n",
      " 4.54 4.29 3.73 4.25 3.66  nan] \n",
      "\n",
      "percentage expenditure [ 71.27962362  73.52358168          nan  78.1842153    7.0971087\n",
      "  79.67936736  56.76221682  25.87392536  10.91015598  17.17151751\n",
      "   1.38864773  15.29606643  11.08905273  16.88735091  10.5747282\n",
      "  10.42496    364.9752287  428.7490668  430.8769785  412.4433563 ] \n",
      "\n",
      "Hepatitis B [65. 62. 64. 67. 68. 66. 63. 99. 98. nan 97. 96. 95. 94.  9.  8. 83. 77.\n",
      " 75. 72.] \n",
      "\n",
      "Measles  [1154.  492.  430. 2787. 3013. 1989. 2861. 1599. 1141. 1990. 1296.  466.\n",
      "  798. 2486. 8762. 6532.    0.    9.   28.   10.] \n",
      "\n",
      " BMI  [19.1 18.6  nan 17.6 17.2 16.7 16.2 15.7 15.2 14.7 14.2 13.8 13.4 13.\n",
      " 12.6 12.2 58.  57.2 56.5 55.8] \n",
      "\n",
      "under-five deaths  [ 83.  86.  89.  93.  97. 102. 106. 110. 113. 116. 118. 120. 122.   0.\n",
      "   1.  nan  24.  23.  22.  25.] \n",
      "\n",
      "Polio [ 6. 58. 62. 67. 68. 66. 63. 64.  5. 41. 36. nan 24. 99. 98. 97. 95. 94.\n",
      " 92. 88.] \n",
      "\n",
      "Total expenditure [8.16 8.18 8.13 8.52 7.87 9.2  9.42  nan 6.73 7.43 8.7  8.79 8.82 7.76\n",
      " 7.8  8.2  6.   5.88 5.66 5.59] \n",
      "\n",
      "Diphtheria  [65. 62. 64. 67. 68. 66. 63. nan 58.  5. 41. 36. 33. 24. 99. 98. 97. 95.\n",
      " 93. 88.] \n",
      "\n",
      " HIV/AIDS [0.1 nan 1.9 2.  2.3 2.6 2.5 2.4 2.1 0.2 0.4 0.8 0.7 0.9 0.5 0.3 0.6 1.5\n",
      " 1.  1.1] \n",
      "\n",
      "GDP [         nan  612.696514   631.744976   669.959       63.537231\n",
      "  553.32894    445.8932979  373.3611163  369.835796   272.56377\n",
      "   25.2941299  219.1413528  198.7285436  187.84595    117.49698\n",
      "  114.56      3954.22783   4575.763787  4414.72314   4247.61438  ] \n",
      "\n",
      "Population [3.3736494e+07 3.2758200e+05 3.1731688e+07 3.6969580e+06 2.9785990e+06\n",
      " 2.8831670e+06           nan 2.7294310e+06 2.6616792e+07 2.5893450e+06\n",
      " 2.4118979e+07 2.3648510e+06 2.1979923e+07 2.9664630e+06 2.9375600e+05\n",
      " 2.8959200e+05 2.9410000e+03 2.9132100e+05 2.9275190e+06 2.9473140e+06] \n",
      "\n",
      " thinness  1-19 years [17.2 17.5 17.7 17.9 18.2 18.4 18.6 18.8 19.  19.2 19.3 19.5  nan 19.9\n",
      "  2.1  2.3  1.2  1.3  1.4  1.5] \n",
      "\n",
      " thinness 5-9 years [17.3 17.5 17.7 18.  18.2 18.4 18.7 18.9 19.1  nan 19.5 19.7 19.9  2.2\n",
      "  2.4  2.5  1.3  1.4  1.5  1.6] \n",
      "\n",
      "Income composition of resources [0.479 0.476 0.47  0.463 0.454 0.448   nan 0.433 0.415 0.405 0.396 0.381\n",
      " 0.341 0.34  0.338 0.762 0.761 0.759 0.752 0.738] \n",
      "\n",
      "Schooling [10.1 10.   9.9  9.8  9.5  9.2  8.9  8.7  8.4  8.1  7.9  6.8  nan  5.9\n",
      "  5.5 14.2 13.3 12.5 12.2 12. ] \n",
      "\n",
      "low Life expectancy [0 1] \n",
      "\n"
     ]
    }
   ],
   "source": [
    "# let's inspect the variable values\n",
    "\n",
    "for var in data.columns:\n",
    "    print(var, data[var].unique()[0:20], '\\n')"
   ]
  },
  {
   "cell_type": "code",
   "execution_count": 460,
   "metadata": {
    "ExecuteTime": {
     "end_time": "2020-05-03T06:14:12.337967Z",
     "start_time": "2020-05-03T06:14:12.303096Z"
    }
   },
   "outputs": [
    {
     "name": "stdout",
     "output_type": "stream",
     "text": [
      "Country 137\n",
      "Year 152\n",
      "Status 160\n",
      "Adult Mortality 149\n",
      "infant deaths 164\n",
      "Alcohol 342\n",
      "percentage expenditure 161\n",
      "Hepatitis B 653\n",
      "Measles  135\n",
      " BMI  179\n",
      "under-five deaths  130\n",
      "Polio 164\n",
      "Total expenditure 375\n",
      "Diphtheria  163\n",
      " HIV/AIDS 150\n",
      "GDP 564\n",
      "Population 771\n",
      " thinness  1-19 years 169\n",
      " thinness 5-9 years 192\n",
      "Income composition of resources 298\n",
      "Schooling 303\n"
     ]
    }
   ],
   "source": [
    "#missing values\n",
    "for var in data.columns:\n",
    "    if data[var].isnull().sum() > 0:\n",
    "        print(var, data[var].isnull().sum())"
   ]
  },
  {
   "cell_type": "code",
   "execution_count": 461,
   "metadata": {
    "ExecuteTime": {
     "end_time": "2020-05-03T06:14:13.341503Z",
     "start_time": "2020-05-03T06:14:13.306596Z"
    }
   },
   "outputs": [
    {
     "data": {
      "text/html": [
       "<div>\n",
       "<style scoped>\n",
       "    .dataframe tbody tr th:only-of-type {\n",
       "        vertical-align: middle;\n",
       "    }\n",
       "\n",
       "    .dataframe tbody tr th {\n",
       "        vertical-align: top;\n",
       "    }\n",
       "\n",
       "    .dataframe thead th {\n",
       "        text-align: right;\n",
       "    }\n",
       "</style>\n",
       "<table border=\"1\" class=\"dataframe\">\n",
       "  <thead>\n",
       "    <tr style=\"text-align: right;\">\n",
       "      <th></th>\n",
       "      <th>Country</th>\n",
       "      <th>Year</th>\n",
       "      <th>Status</th>\n",
       "      <th>Adult Mortality</th>\n",
       "      <th>infant deaths</th>\n",
       "      <th>Alcohol</th>\n",
       "      <th>percentage expenditure</th>\n",
       "      <th>Hepatitis B</th>\n",
       "      <th>Measles</th>\n",
       "      <th>BMI</th>\n",
       "      <th>...</th>\n",
       "      <th>Total expenditure</th>\n",
       "      <th>Diphtheria</th>\n",
       "      <th>HIV/AIDS</th>\n",
       "      <th>GDP</th>\n",
       "      <th>Population</th>\n",
       "      <th>thinness  1-19 years</th>\n",
       "      <th>thinness 5-9 years</th>\n",
       "      <th>Income composition of resources</th>\n",
       "      <th>Schooling</th>\n",
       "      <th>low Life expectancy</th>\n",
       "    </tr>\n",
       "  </thead>\n",
       "  <tbody>\n",
       "    <tr>\n",
       "      <th>0</th>\n",
       "      <td>Afghanistan</td>\n",
       "      <td>2015.0</td>\n",
       "      <td>Developing</td>\n",
       "      <td>263.0</td>\n",
       "      <td>62.0</td>\n",
       "      <td>0.01</td>\n",
       "      <td>71.279624</td>\n",
       "      <td>65.0</td>\n",
       "      <td>1154.0</td>\n",
       "      <td>19.1</td>\n",
       "      <td>...</td>\n",
       "      <td>8.16</td>\n",
       "      <td>65.0</td>\n",
       "      <td>0.1</td>\n",
       "      <td>NaN</td>\n",
       "      <td>33736494.0</td>\n",
       "      <td>17.2</td>\n",
       "      <td>17.3</td>\n",
       "      <td>0.479</td>\n",
       "      <td>10.1</td>\n",
       "      <td>0</td>\n",
       "    </tr>\n",
       "    <tr>\n",
       "      <th>1</th>\n",
       "      <td>Afghanistan</td>\n",
       "      <td>2014.0</td>\n",
       "      <td>Developing</td>\n",
       "      <td>271.0</td>\n",
       "      <td>64.0</td>\n",
       "      <td>0.01</td>\n",
       "      <td>73.523582</td>\n",
       "      <td>62.0</td>\n",
       "      <td>492.0</td>\n",
       "      <td>18.6</td>\n",
       "      <td>...</td>\n",
       "      <td>8.18</td>\n",
       "      <td>62.0</td>\n",
       "      <td>0.1</td>\n",
       "      <td>612.696514</td>\n",
       "      <td>327582.0</td>\n",
       "      <td>17.5</td>\n",
       "      <td>17.5</td>\n",
       "      <td>0.476</td>\n",
       "      <td>10.0</td>\n",
       "      <td>0</td>\n",
       "    </tr>\n",
       "    <tr>\n",
       "      <th>2</th>\n",
       "      <td>Afghanistan</td>\n",
       "      <td>2013.0</td>\n",
       "      <td>NaN</td>\n",
       "      <td>268.0</td>\n",
       "      <td>66.0</td>\n",
       "      <td>0.01</td>\n",
       "      <td>NaN</td>\n",
       "      <td>64.0</td>\n",
       "      <td>430.0</td>\n",
       "      <td>NaN</td>\n",
       "      <td>...</td>\n",
       "      <td>8.13</td>\n",
       "      <td>64.0</td>\n",
       "      <td>NaN</td>\n",
       "      <td>631.744976</td>\n",
       "      <td>31731688.0</td>\n",
       "      <td>17.7</td>\n",
       "      <td>17.7</td>\n",
       "      <td>0.470</td>\n",
       "      <td>9.9</td>\n",
       "      <td>0</td>\n",
       "    </tr>\n",
       "    <tr>\n",
       "      <th>3</th>\n",
       "      <td>Afghanistan</td>\n",
       "      <td>2012.0</td>\n",
       "      <td>Developing</td>\n",
       "      <td>272.0</td>\n",
       "      <td>69.0</td>\n",
       "      <td>0.01</td>\n",
       "      <td>78.184215</td>\n",
       "      <td>67.0</td>\n",
       "      <td>2787.0</td>\n",
       "      <td>17.6</td>\n",
       "      <td>...</td>\n",
       "      <td>8.52</td>\n",
       "      <td>67.0</td>\n",
       "      <td>0.1</td>\n",
       "      <td>669.959000</td>\n",
       "      <td>3696958.0</td>\n",
       "      <td>17.9</td>\n",
       "      <td>18.0</td>\n",
       "      <td>0.463</td>\n",
       "      <td>9.8</td>\n",
       "      <td>0</td>\n",
       "    </tr>\n",
       "    <tr>\n",
       "      <th>4</th>\n",
       "      <td>Afghanistan</td>\n",
       "      <td>2011.0</td>\n",
       "      <td>Developing</td>\n",
       "      <td>275.0</td>\n",
       "      <td>71.0</td>\n",
       "      <td>0.01</td>\n",
       "      <td>7.097109</td>\n",
       "      <td>68.0</td>\n",
       "      <td>3013.0</td>\n",
       "      <td>17.2</td>\n",
       "      <td>...</td>\n",
       "      <td>7.87</td>\n",
       "      <td>68.0</td>\n",
       "      <td>0.1</td>\n",
       "      <td>63.537231</td>\n",
       "      <td>2978599.0</td>\n",
       "      <td>18.2</td>\n",
       "      <td>18.2</td>\n",
       "      <td>0.454</td>\n",
       "      <td>9.5</td>\n",
       "      <td>0</td>\n",
       "    </tr>\n",
       "  </tbody>\n",
       "</table>\n",
       "<p>5 rows × 22 columns</p>\n",
       "</div>"
      ],
      "text/plain": [
       "       Country    Year      Status  Adult Mortality  infant deaths  Alcohol  \\\n",
       "0  Afghanistan  2015.0  Developing            263.0           62.0     0.01   \n",
       "1  Afghanistan  2014.0  Developing            271.0           64.0     0.01   \n",
       "2  Afghanistan  2013.0         NaN            268.0           66.0     0.01   \n",
       "3  Afghanistan  2012.0  Developing            272.0           69.0     0.01   \n",
       "4  Afghanistan  2011.0  Developing            275.0           71.0     0.01   \n",
       "\n",
       "   percentage expenditure  Hepatitis B  Measles    BMI   ...  \\\n",
       "0               71.279624         65.0    1154.0   19.1  ...   \n",
       "1               73.523582         62.0     492.0   18.6  ...   \n",
       "2                     NaN         64.0     430.0    NaN  ...   \n",
       "3               78.184215         67.0    2787.0   17.6  ...   \n",
       "4                7.097109         68.0    3013.0   17.2  ...   \n",
       "\n",
       "   Total expenditure  Diphtheria    HIV/AIDS         GDP  Population  \\\n",
       "0               8.16         65.0        0.1         NaN  33736494.0   \n",
       "1               8.18         62.0        0.1  612.696514    327582.0   \n",
       "2               8.13         64.0        NaN  631.744976  31731688.0   \n",
       "3               8.52         67.0        0.1  669.959000   3696958.0   \n",
       "4               7.87         68.0        0.1   63.537231   2978599.0   \n",
       "\n",
       "    thinness  1-19 years   thinness 5-9 years  \\\n",
       "0                   17.2                 17.3   \n",
       "1                   17.5                 17.5   \n",
       "2                   17.7                 17.7   \n",
       "3                   17.9                 18.0   \n",
       "4                   18.2                 18.2   \n",
       "\n",
       "   Income composition of resources  Schooling  low Life expectancy  \n",
       "0                            0.479       10.1                    0  \n",
       "1                            0.476       10.0                    0  \n",
       "2                            0.470        9.9                    0  \n",
       "3                            0.463        9.8                    0  \n",
       "4                            0.454        9.5                    0  \n",
       "\n",
       "[5 rows x 22 columns]"
      ]
     },
     "execution_count": 461,
     "metadata": {},
     "output_type": "execute_result"
    }
   ],
   "source": [
    "data.head()"
   ]
  },
  {
   "cell_type": "code",
   "execution_count": 462,
   "metadata": {
    "ExecuteTime": {
     "end_time": "2020-05-03T06:14:18.822725Z",
     "start_time": "2020-05-03T06:14:18.802744Z"
    }
   },
   "outputs": [
    {
     "name": "stdout",
     "output_type": "stream",
     "text": [
      "There are 1 discrete variables\n",
      "There are 19 continuous variables\n",
      "There are 2 categorical variables\n"
     ]
    }
   ],
   "source": [
    "# make list of variables  types\n",
    "\n",
    "# numerical: discrete vs continuous\n",
    "discrete = [var for var in data.columns if data[var].dtype!='O'  and data[var].nunique()<10]\n",
    "continuous = [var for var in data.columns if data[var].dtype!='O'  and var not in discrete]\n",
    "\n",
    "# categorical\n",
    "categorical = [var for var in data.columns if data[var].dtype=='O' ]\n",
    "\n",
    "print(f'There are {len(discrete)} discrete variables')\n",
    "print(f'There are {len(continuous)} continuous variables')\n",
    "print(f'There are {len(categorical)} categorical variables')"
   ]
  },
  {
   "cell_type": "code",
   "execution_count": 463,
   "metadata": {
    "ExecuteTime": {
     "end_time": "2020-05-03T06:14:20.043791Z",
     "start_time": "2020-05-03T06:14:20.037811Z"
    }
   },
   "outputs": [],
   "source": [
    "# print Percentage of missing values in numerical columns\n",
    "\n",
    "# examine percentage of missing values\n",
    "for col in discrete :\n",
    "    if data[col].isnull().mean() > 0:\n",
    "        print(col, \"{:.2f}\".format(data[col].isnull().mean()),'%' )"
   ]
  },
  {
   "cell_type": "code",
   "execution_count": 464,
   "metadata": {
    "ExecuteTime": {
     "end_time": "2020-05-03T06:14:28.421460Z",
     "start_time": "2020-05-03T06:14:28.385555Z"
    },
    "scrolled": true
   },
   "outputs": [
    {
     "name": "stdout",
     "output_type": "stream",
     "text": [
      "Year 0.05 %\n",
      "Adult Mortality 0.05 %\n",
      "infant deaths 0.06 %\n",
      "Alcohol 0.12 %\n",
      "percentage expenditure 0.05 %\n",
      "Hepatitis B 0.22 %\n",
      "Measles  0.05 %\n",
      " BMI  0.06 %\n",
      "under-five deaths  0.04 %\n",
      "Polio 0.06 %\n",
      "Total expenditure 0.13 %\n",
      "Diphtheria  0.06 %\n",
      " HIV/AIDS 0.05 %\n",
      "GDP 0.19 %\n",
      "Population 0.26 %\n",
      " thinness  1-19 years 0.06 %\n",
      " thinness 5-9 years 0.07 %\n",
      "Income composition of resources 0.10 %\n",
      "Schooling 0.10 %\n"
     ]
    }
   ],
   "source": [
    "# print Percentage of missing values in numerical columns\n",
    "\n",
    "# examine percentage of missing values\n",
    "for col in continuous:\n",
    "    if data[col].isnull().mean() > 0:\n",
    "        print(col, \"{:.2f}\".format(data[col].isnull().mean()),'%' )"
   ]
  },
  {
   "cell_type": "code",
   "execution_count": 465,
   "metadata": {
    "ExecuteTime": {
     "end_time": "2020-05-03T06:14:33.057290Z",
     "start_time": "2020-05-03T06:14:33.022383Z"
    }
   },
   "outputs": [
    {
     "name": "stdout",
     "output_type": "stream",
     "text": [
      "Country 0.05 %\n",
      "Year 0.05 %\n",
      "Status 0.05 %\n",
      "Adult Mortality 0.05 %\n",
      "infant deaths 0.06 %\n",
      "Alcohol 0.12 %\n",
      "percentage expenditure 0.05 %\n",
      "Hepatitis B 0.22 %\n",
      "Measles  0.05 %\n",
      " BMI  0.06 %\n",
      "under-five deaths  0.04 %\n",
      "Polio 0.06 %\n",
      "Total expenditure 0.13 %\n",
      "Diphtheria  0.06 %\n",
      " HIV/AIDS 0.05 %\n",
      "GDP 0.19 %\n",
      "Population 0.26 %\n",
      " thinness  1-19 years 0.06 %\n",
      " thinness 5-9 years 0.07 %\n",
      "Income composition of resources 0.10 %\n",
      "Schooling 0.10 %\n"
     ]
    }
   ],
   "source": [
    "# print Percentage of missing values in numerical columns\n",
    "\n",
    "# examine percentage of missing values\n",
    "for col in data.columns:\n",
    "    if data[col].isnull().mean() > 0:\n",
    "        print(col, \"{:.2f}\".format(data[col].isnull().mean()),'%' )"
   ]
  },
  {
   "cell_type": "code",
   "execution_count": 466,
   "metadata": {
    "ExecuteTime": {
     "end_time": "2020-05-03T06:14:34.819120Z",
     "start_time": "2020-05-03T06:14:34.799176Z"
    }
   },
   "outputs": [
    {
     "name": "stdout",
     "output_type": "stream",
     "text": [
      "Country 0.046630360789652825\n",
      "Status 0.05445881552076242\n"
     ]
    }
   ],
   "source": [
    "# print Percentage of missing values in numerical columns\n",
    "\n",
    "# examine percentage of missing values\n",
    "for col in categorical:\n",
    "    if data[col].isnull().mean() > 0:\n",
    "        print(col, data[col].isnull().mean())"
   ]
  },
  {
   "cell_type": "markdown",
   "metadata": {},
   "source": [
    "# Preprocessing"
   ]
  },
  {
   "cell_type": "code",
   "execution_count": 467,
   "metadata": {
    "ExecuteTime": {
     "end_time": "2020-05-03T06:14:39.787219Z",
     "start_time": "2020-05-03T06:14:39.763285Z"
    }
   },
   "outputs": [],
   "source": [
    "from sklearn.model_selection import train_test_split\n",
    "X_trainval, X_test, y_trainval, y_test = train_test_split(data.drop('low Life expectancy',axis=1), data['low Life expectancy'], test_size=0.2, random_state=0)\n",
    "X_train, X_val, y_train, y_val = train_test_split(X_trainval, y_trainval, test_size=0.25, random_state=0)"
   ]
  },
  {
   "cell_type": "code",
   "execution_count": 468,
   "metadata": {
    "ExecuteTime": {
     "end_time": "2020-05-03T06:14:39.958592Z",
     "start_time": "2020-05-03T06:14:39.941601Z"
    }
   },
   "outputs": [
    {
     "name": "stdout",
     "output_type": "stream",
     "text": [
      "Train size is (1762, 21)\n",
      "Test size is (588, 21)\n",
      "Val size is (588, 21)\n"
     ]
    }
   ],
   "source": [
    "print(f'Train size is {X_train.shape}' )\n",
    "print(f'Test size is {X_test.shape}' )\n",
    "print(f'Val size is {X_val.shape}' )"
   ]
  },
  {
   "cell_type": "code",
   "execution_count": 469,
   "metadata": {
    "ExecuteTime": {
     "end_time": "2020-05-03T06:14:40.147323Z",
     "start_time": "2020-05-03T06:14:40.140359Z"
    }
   },
   "outputs": [],
   "source": [
    "# from feature-engine\n",
    "from feature_engine import missing_data_imputers as mdi\n",
    "# for one hot encoding with feature-engine\n",
    "from feature_engine.categorical_encoders import OneHotCategoricalEncoder\n",
    "from feature_engine.variable_transformers import YeoJohnsonTransformer as YJT\n",
    "from sklearn.preprocessing import RobustScaler\n",
    "from sklearn.pipeline import Pipeline\n",
    "# to impute missing data with feature-engine\n",
    "from feature_engine.missing_data_imputers import FrequentCategoryImputer"
   ]
  },
  {
   "cell_type": "code",
   "execution_count": 470,
   "metadata": {
    "ExecuteTime": {
     "end_time": "2020-05-03T06:14:40.382360Z",
     "start_time": "2020-05-03T06:14:40.362415Z"
    }
   },
   "outputs": [],
   "source": [
    "life_pipeline=Pipeline([\n",
    "    ('median_imputer',mdi.MeanMedianImputer(imputation_method='median',\n",
    "                                   variables=continuous)),\n",
    "    ('mode_imputer', FrequentCategoryImputer(variables=categorical)),\n",
    "    ('categorical_encoder',\n",
    "     OneHotCategoricalEncoder( top_categories=None,\n",
    "                               variables=categorical, \n",
    "                               drop_last=True)),\n",
    "   ('power_transform',YJT()),\n",
    "   ('scale',RobustScaler())  ,\n",
    "     \n",
    "])\n"
   ]
  },
  {
   "cell_type": "code",
   "execution_count": 471,
   "metadata": {
    "ExecuteTime": {
     "end_time": "2020-05-03T06:14:42.916949Z",
     "start_time": "2020-05-03T06:14:41.440607Z"
    }
   },
   "outputs": [
    {
     "data": {
      "text/plain": [
       "Pipeline(memory=None,\n",
       "         steps=[('median_imputer',\n",
       "                 MeanMedianImputer(imputation_method='median',\n",
       "                                   variables=['Year', 'Adult Mortality',\n",
       "                                              'infant deaths', 'Alcohol',\n",
       "                                              'percentage expenditure',\n",
       "                                              'Hepatitis B', 'Measles ',\n",
       "                                              ' BMI ', 'under-five deaths ',\n",
       "                                              'Polio', 'Total expenditure',\n",
       "                                              'Diphtheria ', ' HIV/AIDS', 'GDP',\n",
       "                                              'Population',\n",
       "                                              ' thinness  1-19 years',\n",
       "                                              ' thinness 5-9 years',\n",
       "                                              'Income composition...\n",
       "                                                  'Country_Bosnia and '\n",
       "                                                  'Herzegovina',\n",
       "                                                  'Country_Iran (Islamic '\n",
       "                                                  'Republic of)',\n",
       "                                                  'Country_Egypt',\n",
       "                                                  'Country_Estonia',\n",
       "                                                  'Country_Central African '\n",
       "                                                  'Republic',\n",
       "                                                  'Country_Jamaica',\n",
       "                                                  'Country_Gabon',\n",
       "                                                  'Country_Sri Lanka',\n",
       "                                                  'Country_Romania',\n",
       "                                                  'Country_Guatemala',\n",
       "                                                  'Country_Poland', ...])),\n",
       "                ('scale',\n",
       "                 RobustScaler(copy=True, quantile_range=(25.0, 75.0),\n",
       "                              with_centering=True, with_scaling=True))],\n",
       "         verbose=False)"
      ]
     },
     "execution_count": 471,
     "metadata": {},
     "output_type": "execute_result"
    }
   ],
   "source": [
    "life_pipeline.fit(X_train,y_train)"
   ]
  },
  {
   "cell_type": "code",
   "execution_count": 472,
   "metadata": {
    "ExecuteTime": {
     "end_time": "2020-05-03T06:14:42.949816Z",
     "start_time": "2020-05-03T06:14:42.924842Z"
    }
   },
   "outputs": [
    {
     "data": {
      "text/plain": [
       "['Year',\n",
       " 'Adult Mortality',\n",
       " 'infant deaths',\n",
       " 'Alcohol',\n",
       " 'percentage expenditure',\n",
       " 'Hepatitis B',\n",
       " 'Measles ',\n",
       " ' BMI ',\n",
       " 'under-five deaths ',\n",
       " 'Polio',\n",
       " 'Total expenditure',\n",
       " 'Diphtheria ',\n",
       " ' HIV/AIDS',\n",
       " 'GDP',\n",
       " 'Population',\n",
       " ' thinness  1-19 years',\n",
       " ' thinness 5-9 years',\n",
       " 'Income composition of resources',\n",
       " 'Schooling']"
      ]
     },
     "execution_count": 472,
     "metadata": {},
     "output_type": "execute_result"
    }
   ],
   "source": [
    "continuous"
   ]
  },
  {
   "cell_type": "code",
   "execution_count": 473,
   "metadata": {
    "ExecuteTime": {
     "end_time": "2020-05-03T06:14:49.727108Z",
     "start_time": "2020-05-03T06:14:49.722101Z"
    }
   },
   "outputs": [
    {
     "data": {
      "text/plain": [
       "['low Life expectancy']"
      ]
     },
     "execution_count": 473,
     "metadata": {},
     "output_type": "execute_result"
    }
   ],
   "source": [
    "discrete"
   ]
  },
  {
   "cell_type": "code",
   "execution_count": 474,
   "metadata": {
    "ExecuteTime": {
     "end_time": "2020-05-03T06:14:52.100052Z",
     "start_time": "2020-05-03T06:14:51.398119Z"
    }
   },
   "outputs": [],
   "source": [
    "X_train=life_pipeline.transform(X_train)\n",
    "X_test=life_pipeline.transform(X_test)\n",
    "X_val=life_pipeline.transform(X_val)"
   ]
  },
  {
   "cell_type": "markdown",
   "metadata": {},
   "source": [
    "# Basic Algorithms "
   ]
  },
  {
   "cell_type": "markdown",
   "metadata": {},
   "source": [
    "## Naive Algorithm"
   ]
  },
  {
   "cell_type": "code",
   "execution_count": 475,
   "metadata": {
    "ExecuteTime": {
     "end_time": "2020-05-03T06:14:58.780261Z",
     "start_time": "2020-05-03T06:14:58.768293Z"
    }
   },
   "outputs": [],
   "source": [
    "# Naive Algorithm\n",
    "from sklearn.dummy import DummyClassifier\n",
    "from sklearn.model_selection import cross_val_score"
   ]
  },
  {
   "cell_type": "code",
   "execution_count": 783,
   "metadata": {
    "ExecuteTime": {
     "end_time": "2020-05-04T03:44:18.181314Z",
     "start_time": "2020-05-04T03:44:18.127417Z"
    },
    "scrolled": false
   },
   "outputs": [
    {
     "name": "stdout",
     "output_type": "stream",
     "text": [
      "Mean Cross-validation scores: 0.08789646486359107\n",
      "\n"
     ]
    }
   ],
   "source": [
    "model_dummy = DummyClassifier(strategy='constant',random_state=123,constant =1 )\n",
    "model_dummy.fit(X_train,y_train)\n",
    "cv_scores = cross_val_score(model_dummy, X_train, y_train,scoring='f1')\n",
    "# Mean Cross validation Score\n",
    "print(\"Mean Cross-validation scores: {}\".format(cv_scores.mean()))\n",
    "print()\n",
    "# Check test data set performance"
   ]
  },
  {
   "cell_type": "code",
   "execution_count": 784,
   "metadata": {
    "ExecuteTime": {
     "end_time": "2020-05-04T03:44:20.380921Z",
     "start_time": "2020-05-04T03:44:20.363934Z"
    }
   },
   "outputs": [
    {
     "name": "stdout",
     "output_type": "stream",
     "text": [
      "Naive Algorithm Test Performance:  0.03571428571428571\n",
      "Naive Algorithm Test Performance:  0.04597048808172531\n",
      "Naive Algorithm Test Performance:  0.05952380952380952\n"
     ]
    }
   ],
   "source": [
    "print(\"Naive Algorithm Test Performance: \", model_dummy.score(X_test,y_test))\n",
    "print(\"Naive Algorithm Test Performance: \", model_dummy.score(X_train,y_train))\n",
    "print(\"Naive Algorithm Test Performance: \", model_dummy.score(X_val,y_val))"
   ]
  },
  {
   "cell_type": "markdown",
   "metadata": {},
   "source": [
    "\n",
    "## \tLogistic Regression"
   ]
  },
  {
   "cell_type": "code",
   "execution_count": 477,
   "metadata": {
    "ExecuteTime": {
     "end_time": "2020-05-03T06:14:58.859046Z",
     "start_time": "2020-05-03T06:14:58.846083Z"
    }
   },
   "outputs": [],
   "source": [
    "from sklearn.linear_model import LogisticRegression\n",
    "from sklearn.model_selection import GridSearchCV"
   ]
  },
  {
   "cell_type": "code",
   "execution_count": 558,
   "metadata": {
    "ExecuteTime": {
     "end_time": "2020-05-03T13:25:56.444540Z",
     "start_time": "2020-05-03T13:25:55.355471Z"
    }
   },
   "outputs": [
    {
     "data": {
      "text/plain": [
       "GridSearchCV(cv=5, error_score=nan,\n",
       "             estimator=LogisticRegression(C=1.0, class_weight=None, dual=False,\n",
       "                                          fit_intercept=True,\n",
       "                                          intercept_scaling=1, l1_ratio=None,\n",
       "                                          max_iter=1000, multi_class='auto',\n",
       "                                          n_jobs=None, penalty='l2',\n",
       "                                          random_state=None, solver='lbfgs',\n",
       "                                          tol=0.0001, verbose=0,\n",
       "                                          warm_start=False),\n",
       "             iid='deprecated', n_jobs=None, param_grid={'C': [4, 5, 6]},\n",
       "             pre_dispatch='2*n_jobs', refit=True, return_train_score=True,\n",
       "             scoring='f1', verbose=0)"
      ]
     },
     "execution_count": 558,
     "metadata": {},
     "output_type": "execute_result"
    }
   ],
   "source": [
    "logreg=LogisticRegression(max_iter=1000)\n",
    "\n",
    "logreg_param= {'C': [4,5,6]}\n",
    "logreg_grid = GridSearchCV(logreg, logreg_param,cv=5, return_train_score=True,scoring='f1' )\n",
    "logreg_grid.fit(X_train,y_train)"
   ]
  },
  {
   "cell_type": "code",
   "execution_count": 789,
   "metadata": {
    "ExecuteTime": {
     "end_time": "2020-05-04T03:45:44.700298Z",
     "start_time": "2020-05-04T03:45:44.677360Z"
    }
   },
   "outputs": [
    {
     "name": "stdout",
     "output_type": "stream",
     "text": [
      "Best Mean Cross Validation Score is 0.25978021978021976\n",
      "Best Parameters: {'C': 5}\n",
      "Train score is 0.26262626262626265\n",
      "Test score is 0.37037037037037035\n",
      "Val score is 0.18604651162790695\n"
     ]
    }
   ],
   "source": [
    "print(f'Best Mean Cross Validation Score is {logreg_grid.best_score_}')\n",
    "print(f'Best Parameters: {logreg_grid.best_params_}')\n",
    "print(f'Train score is {logreg_grid.score(X_train,y_train)}')\n",
    "print(f'Test score is {logreg_grid.score(X_test,y_test)}')\n",
    "print(f'Val score is {logreg_grid.score(X_val,y_val)}')"
   ]
  },
  {
   "cell_type": "markdown",
   "metadata": {},
   "source": [
    "## Decision Tree"
   ]
  },
  {
   "cell_type": "code",
   "execution_count": 480,
   "metadata": {
    "ExecuteTime": {
     "end_time": "2020-05-03T06:15:00.081777Z",
     "start_time": "2020-05-03T06:15:00.068813Z"
    }
   },
   "outputs": [],
   "source": [
    "from sklearn.tree import DecisionTreeClassifier"
   ]
  },
  {
   "cell_type": "code",
   "execution_count": 481,
   "metadata": {
    "ExecuteTime": {
     "end_time": "2020-05-03T06:15:44.944810Z",
     "start_time": "2020-05-03T06:15:00.090805Z"
    }
   },
   "outputs": [
    {
     "data": {
      "text/plain": [
       "GridSearchCV(cv=5, error_score=nan,\n",
       "             estimator=DecisionTreeClassifier(ccp_alpha=0.0, class_weight=None,\n",
       "                                              criterion='gini', max_depth=None,\n",
       "                                              max_features=None,\n",
       "                                              max_leaf_nodes=None,\n",
       "                                              min_impurity_decrease=0.0,\n",
       "                                              min_impurity_split=None,\n",
       "                                              min_samples_leaf=1,\n",
       "                                              min_samples_split=2,\n",
       "                                              min_weight_fraction_leaf=0.0,\n",
       "                                              presort='deprecated',\n",
       "                                              random_state=None,\n",
       "                                              splitter='best'),\n",
       "             iid='deprecated', n_jobs=None,\n",
       "             param_grid={'max_depth': range(1, 10),\n",
       "                         'max_leaf_nodes': range(2, 6),\n",
       "                         'min_samples_split': range(2, 10),\n",
       "                         'splitter': ['best', 'random']},\n",
       "             pre_dispatch='2*n_jobs', refit=True, return_train_score=True,\n",
       "             scoring='f1', verbose=0)"
      ]
     },
     "execution_count": 481,
     "metadata": {},
     "output_type": "execute_result"
    }
   ],
   "source": [
    "dtree = DecisionTreeClassifier()\n",
    "dtree_param = {\"max_depth\": range(1,10),\n",
    "           \"min_samples_split\": range(2,10,1),\n",
    "           \"max_leaf_nodes\": range(2,6),\n",
    "              \"splitter\": [\"best\", \"random\"]}\n",
    "dtree_grid = GridSearchCV(dtree, dtree_param,cv=5, return_train_score=True,scoring='f1' )\n",
    "dtree_grid.fit(X_train,y_train)"
   ]
  },
  {
   "cell_type": "code",
   "execution_count": 788,
   "metadata": {
    "ExecuteTime": {
     "end_time": "2020-05-04T03:45:36.640027Z",
     "start_time": "2020-05-04T03:45:36.620081Z"
    }
   },
   "outputs": [
    {
     "name": "stdout",
     "output_type": "stream",
     "text": [
      "Best Mean Cross Validation Score is 0.5340608816470885\n",
      "Best Parameters : {'max_depth': 3, 'max_leaf_nodes': 5, 'min_samples_split': 4, 'splitter': 'best'}\n",
      "Train score is 0.5913043478260869\n",
      "Test score is 0.5142857142857143\n",
      "Val score is 0.576271186440678\n"
     ]
    }
   ],
   "source": [
    "print(f'Best Mean Cross Validation Score is {dtree_grid.best_score_}')\n",
    "print(f'Best Parameters : {dtree_grid.best_params_}')\n",
    "print(f'Train score is {dtree_grid.score(X_train,y_train)}')\n",
    "print(f'Test score is {dtree_grid.score(X_test,y_test)}')\n",
    "print(f'Val score is {dtree_grid.score(X_val,y_val)}')"
   ]
  },
  {
   "cell_type": "markdown",
   "metadata": {},
   "source": [
    "## k-Nearest Neighbors"
   ]
  },
  {
   "cell_type": "code",
   "execution_count": 483,
   "metadata": {
    "ExecuteTime": {
     "end_time": "2020-05-03T06:15:44.992677Z",
     "start_time": "2020-05-03T06:15:44.978714Z"
    }
   },
   "outputs": [],
   "source": [
    "from sklearn.neighbors import KNeighborsClassifier"
   ]
  },
  {
   "cell_type": "code",
   "execution_count": 708,
   "metadata": {
    "ExecuteTime": {
     "end_time": "2020-05-03T22:23:40.768576Z",
     "start_time": "2020-05-03T22:23:40.747600Z"
    }
   },
   "outputs": [],
   "source": [
    "knn= KNeighborsClassifier()\n",
    "\n",
    "knn_param= {'p': [1,2], 'n_neighbors' : [4,5,6,7], 'weights': ['uniform','distance']}\n",
    "knn_grid = GridSearchCV(knn, knn_param,cv=5, return_train_score=True,scoring='f1' )"
   ]
  },
  {
   "cell_type": "code",
   "execution_count": 709,
   "metadata": {
    "ExecuteTime": {
     "end_time": "2020-05-03T22:24:52.361439Z",
     "start_time": "2020-05-03T22:23:43.590031Z"
    }
   },
   "outputs": [
    {
     "data": {
      "text/plain": [
       "GridSearchCV(cv=5, error_score=nan,\n",
       "             estimator=KNeighborsClassifier(algorithm='auto', leaf_size=30,\n",
       "                                            metric='minkowski',\n",
       "                                            metric_params=None, n_jobs=None,\n",
       "                                            n_neighbors=5, p=2,\n",
       "                                            weights='uniform'),\n",
       "             iid='deprecated', n_jobs=None,\n",
       "             param_grid={'n_neighbors': [4, 5, 6, 7], 'p': [1, 2],\n",
       "                         'weights': ['uniform', 'distance']},\n",
       "             pre_dispatch='2*n_jobs', refit=True, return_train_score=True,\n",
       "             scoring='f1', verbose=0)"
      ]
     },
     "execution_count": 709,
     "metadata": {},
     "output_type": "execute_result"
    }
   ],
   "source": [
    "knn_grid.fit(X_train,y_train)"
   ]
  },
  {
   "cell_type": "code",
   "execution_count": 787,
   "metadata": {
    "ExecuteTime": {
     "end_time": "2020-05-04T03:45:29.727747Z",
     "start_time": "2020-05-04T03:45:28.257326Z"
    }
   },
   "outputs": [
    {
     "name": "stdout",
     "output_type": "stream",
     "text": [
      "Best Mean Cross Validation Score is 0.6735884804850323\n",
      "Best Parameters : {'n_neighbors': 4, 'p': 1, 'weights': 'distance'}\n",
      "Train score is 1.0\n",
      "Test score is 0.7777777777777778\n",
      "Validation score is 0.6567164179104478\n"
     ]
    }
   ],
   "source": [
    "print(f'Best Mean Cross Validation Score is {knn_grid.best_score_}')\n",
    "print(f'Best Parameters : {knn_grid.best_params_}')\n",
    "print(f'Train score is {knn_grid.score(X_train,y_train)}')\n",
    "print(f'Test score is {knn_grid.score(X_test,y_test)}')\n",
    "print(f'Validation score is {knn_grid.score(X_val,y_val)}')"
   ]
  },
  {
   "cell_type": "markdown",
   "metadata": {},
   "source": [
    "## SVC"
   ]
  },
  {
   "cell_type": "markdown",
   "metadata": {},
   "source": [
    "### Linear"
   ]
  },
  {
   "cell_type": "code",
   "execution_count": 487,
   "metadata": {
    "ExecuteTime": {
     "end_time": "2020-05-03T06:16:45.320749Z",
     "start_time": "2020-05-03T06:16:45.307780Z"
    }
   },
   "outputs": [],
   "source": [
    "from sklearn.svm import SVC"
   ]
  },
  {
   "cell_type": "code",
   "execution_count": 664,
   "metadata": {
    "ExecuteTime": {
     "end_time": "2020-05-03T20:26:53.245289Z",
     "start_time": "2020-05-03T20:26:44.378560Z"
    }
   },
   "outputs": [
    {
     "data": {
      "text/plain": [
       "GridSearchCV(cv=5, error_score=nan,\n",
       "             estimator=SVC(C=1.0, break_ties=False, cache_size=200,\n",
       "                           class_weight=None, coef0=0.0,\n",
       "                           decision_function_shape='ovr', degree=3,\n",
       "                           gamma='scale', kernel='linear', max_iter=-1,\n",
       "                           probability=True, random_state=None, shrinking=True,\n",
       "                           tol=0.001, verbose=False),\n",
       "             iid='deprecated', n_jobs=None, param_grid={'C': [0.8, 1, 2]},\n",
       "             pre_dispatch='2*n_jobs', refit=True, return_train_score=True,\n",
       "             scoring='f1', verbose=0)"
      ]
     },
     "execution_count": 664,
     "metadata": {},
     "output_type": "execute_result"
    }
   ],
   "source": [
    "lsvc=SVC(kernel='linear',probability=True)\n",
    "lsvc_param= {'C': [0.8,1,2],}\n",
    "lsvc_grid = GridSearchCV(lsvc, lsvc_param,cv=5, return_train_score=True,scoring='f1' )\n",
    "lsvc_grid.fit(X_train,y_train)"
   ]
  },
  {
   "cell_type": "code",
   "execution_count": 790,
   "metadata": {
    "ExecuteTime": {
     "end_time": "2020-05-04T03:46:01.246508Z",
     "start_time": "2020-05-04T03:46:00.981217Z"
    }
   },
   "outputs": [
    {
     "name": "stdout",
     "output_type": "stream",
     "text": [
      "Best Mean Cross Validation Score is 0.0\n",
      "Best Parameters: {'C': 0.8}\n",
      "Train score is 0.0\n",
      "Test score is 0.0\n",
      "Val score is 0.0\n"
     ]
    }
   ],
   "source": [
    "print(f'Best Mean Cross Validation Score is {lsvc_grid.best_score_}')\n",
    "print(f'Best Parameters: {lsvc_grid.best_params_}')\n",
    "print(f'Train score is {lsvc_grid.score(X_train,y_train)}')\n",
    "print(f'Test score is {lsvc_grid.score(X_test,y_test)}')\n",
    "print(f'Val score is {lsvc_grid.score(X_val,y_val)}')"
   ]
  },
  {
   "cell_type": "markdown",
   "metadata": {},
   "source": [
    "### kernal"
   ]
  },
  {
   "cell_type": "code",
   "execution_count": 666,
   "metadata": {
    "ExecuteTime": {
     "end_time": "2020-05-03T20:26:53.466932Z",
     "start_time": "2020-05-03T20:26:53.456993Z"
    }
   },
   "outputs": [],
   "source": [
    "from sklearn.svm import SVC"
   ]
  },
  {
   "cell_type": "markdown",
   "metadata": {},
   "source": [
    "#### Kernal RBF"
   ]
  },
  {
   "cell_type": "code",
   "execution_count": 667,
   "metadata": {
    "ExecuteTime": {
     "end_time": "2020-05-03T20:26:53.481893Z",
     "start_time": "2020-05-03T20:26:53.469924Z"
    }
   },
   "outputs": [],
   "source": [
    "ksvc=SVC(probability=True)\n",
    "ksvcRbf_param = [{'kernel': ['rbf'],\n",
    "               'C': [.9,1,2],\n",
    "               'gamma': [.9,1,2]},\n",
    "                ]\n",
    "\n",
    "ksvcRbf_grid = GridSearchCV(ksvc, ksvcRbf_param ,cv=3, return_train_score=True, scoring='f1')"
   ]
  },
  {
   "cell_type": "code",
   "execution_count": 668,
   "metadata": {
    "ExecuteTime": {
     "end_time": "2020-05-03T20:28:15.556069Z",
     "start_time": "2020-05-03T20:26:53.483886Z"
    }
   },
   "outputs": [
    {
     "data": {
      "text/plain": [
       "GridSearchCV(cv=3, error_score=nan,\n",
       "             estimator=SVC(C=1.0, break_ties=False, cache_size=200,\n",
       "                           class_weight=None, coef0=0.0,\n",
       "                           decision_function_shape='ovr', degree=3,\n",
       "                           gamma='scale', kernel='rbf', max_iter=-1,\n",
       "                           probability=True, random_state=None, shrinking=True,\n",
       "                           tol=0.001, verbose=False),\n",
       "             iid='deprecated', n_jobs=None,\n",
       "             param_grid=[{'C': [0.9, 1, 2], 'gamma': [0.9, 1, 2],\n",
       "                          'kernel': ['rbf']}],\n",
       "             pre_dispatch='2*n_jobs', refit=True, return_train_score=True,\n",
       "             scoring='f1', verbose=0)"
      ]
     },
     "execution_count": 668,
     "metadata": {},
     "output_type": "execute_result"
    }
   ],
   "source": [
    "ksvcRbf_grid.fit(X_train,y_train)"
   ]
  },
  {
   "cell_type": "code",
   "execution_count": 791,
   "metadata": {
    "ExecuteTime": {
     "end_time": "2020-05-04T03:46:16.023090Z",
     "start_time": "2020-05-04T03:46:14.409441Z"
    }
   },
   "outputs": [
    {
     "name": "stdout",
     "output_type": "stream",
     "text": [
      "Best Mean Cross Validation Score is 0.1793103448275862\n",
      "Best Parameters: {'C': 2, 'gamma': 0.9, 'kernel': 'rbf'}\n",
      "Train score is 1.0\n",
      "Test score is 0.32\n",
      "Val score is 0.10526315789473684\n"
     ]
    }
   ],
   "source": [
    "print(f'Best Mean Cross Validation Score is {ksvcRbf_grid.best_score_}')\n",
    "print(f'Best Parameters: {ksvcRbf_grid.best_params_}')\n",
    "print(f'Train score is {ksvcRbf_grid.score(X_train,y_train)}')\n",
    "print(f'Test score is {ksvcRbf_grid.score(X_test,y_test)}')\n",
    "print(f'Val score is {ksvcRbf_grid.score(X_val,y_val)}')"
   ]
  },
  {
   "cell_type": "markdown",
   "metadata": {},
   "source": [
    "#### Kernal Poly"
   ]
  },
  {
   "cell_type": "code",
   "execution_count": 670,
   "metadata": {
    "ExecuteTime": {
     "end_time": "2020-05-03T20:28:16.989157Z",
     "start_time": "2020-05-03T20:28:16.975195Z"
    }
   },
   "outputs": [],
   "source": [
    "ksvc=SVC(probability=True)\n",
    "ksvcPoly_param = [\n",
    "              {'kernel': ['poly'],\n",
    "               'C': [0.01,.02,.03 ],\n",
    "              'gamma': [0.1,1,5,10],\n",
    "              'degree' : range(1,3)},\n",
    "             ]\n",
    "\n",
    "ksvcPoly_grid = GridSearchCV(ksvc, ksvcPoly_param,cv=3, return_train_score=True, scoring='f1')"
   ]
  },
  {
   "cell_type": "code",
   "execution_count": 671,
   "metadata": {
    "ExecuteTime": {
     "end_time": "2020-05-03T20:28:42.088347Z",
     "start_time": "2020-05-03T20:28:16.992150Z"
    }
   },
   "outputs": [
    {
     "data": {
      "text/plain": [
       "GridSearchCV(cv=3, error_score=nan,\n",
       "             estimator=SVC(C=1.0, break_ties=False, cache_size=200,\n",
       "                           class_weight=None, coef0=0.0,\n",
       "                           decision_function_shape='ovr', degree=3,\n",
       "                           gamma='scale', kernel='rbf', max_iter=-1,\n",
       "                           probability=True, random_state=None, shrinking=True,\n",
       "                           tol=0.001, verbose=False),\n",
       "             iid='deprecated', n_jobs=None,\n",
       "             param_grid=[{'C': [0.01, 0.02, 0.03], 'degree': range(1, 3),\n",
       "                          'gamma': [0.1, 1, 5, 10], 'kernel': ['poly']}],\n",
       "             pre_dispatch='2*n_jobs', refit=True, return_train_score=True,\n",
       "             scoring='f1', verbose=0)"
      ]
     },
     "execution_count": 671,
     "metadata": {},
     "output_type": "execute_result"
    }
   ],
   "source": [
    "ksvcPoly_grid.fit(X_train,y_train)"
   ]
  },
  {
   "cell_type": "code",
   "execution_count": 792,
   "metadata": {
    "ExecuteTime": {
     "end_time": "2020-05-04T03:46:25.692178Z",
     "start_time": "2020-05-04T03:46:25.510658Z"
    }
   },
   "outputs": [
    {
     "name": "stdout",
     "output_type": "stream",
     "text": [
      "Best Mean Cross Validation Score is 0.5510370169424647\n",
      "Best Parameters: {'C': 0.03, 'degree': 2, 'gamma': 1, 'kernel': 'poly'}\n",
      "Train score is 0.7591240875912408\n",
      "Test score is 0.5263157894736842\n",
      "Val score is 0.4814814814814815\n"
     ]
    }
   ],
   "source": [
    "print(f'Best Mean Cross Validation Score is {ksvcPoly_grid.best_score_}')\n",
    "print(f'Best Parameters: {ksvcPoly_grid.best_params_}')\n",
    "print(f'Train score is {ksvcPoly_grid.score(X_train,y_train)}')\n",
    "print(f'Test score is {ksvcPoly_grid.score(X_test,y_test)}')\n",
    "print(f'Val score is {ksvcPoly_grid.score(X_val,y_val)}')"
   ]
  },
  {
   "cell_type": "markdown",
   "metadata": {},
   "source": [
    "#### Kernal Sigmoid\n"
   ]
  },
  {
   "cell_type": "code",
   "execution_count": 673,
   "metadata": {
    "ExecuteTime": {
     "end_time": "2020-05-03T20:29:22.411416Z",
     "start_time": "2020-05-03T20:28:42.250932Z"
    }
   },
   "outputs": [
    {
     "data": {
      "text/plain": [
       "GridSearchCV(cv=5, error_score=nan,\n",
       "             estimator=SVC(C=1.0, break_ties=False, cache_size=200,\n",
       "                           class_weight=None, coef0=0.0,\n",
       "                           decision_function_shape='ovr', degree=3,\n",
       "                           gamma='scale', kernel='rbf', max_iter=-1,\n",
       "                           probability=True, random_state=None, shrinking=True,\n",
       "                           tol=0.001, verbose=False),\n",
       "             iid='deprecated', n_jobs=None,\n",
       "             param_grid=[{'C': [500, 550, 600], 'gamma': [0.001, 0.002],\n",
       "                          'kernel': ['sigmoid']}],\n",
       "             pre_dispatch='2*n_jobs', refit=True, return_train_score=True,\n",
       "             scoring='f1', verbose=0)"
      ]
     },
     "execution_count": 673,
     "metadata": {},
     "output_type": "execute_result"
    }
   ],
   "source": [
    "ksvc=SVC(probability=True)\n",
    "ksvcSigm_param = [\n",
    "             \n",
    "             {'kernel': ['sigmoid'],\n",
    "               'C': [ 500,550,600],\n",
    "               'gamma': [0.001,.002]}]\n",
    "\n",
    "ksvcSigm_grid = GridSearchCV(ksvc, ksvcSigm_param,cv=5, return_train_score=True, scoring='f1')\n",
    "ksvcSigm_grid.fit(X_train,y_train)\n",
    "             "
   ]
  },
  {
   "cell_type": "code",
   "execution_count": 793,
   "metadata": {
    "ExecuteTime": {
     "end_time": "2020-05-04T03:46:31.054005Z",
     "start_time": "2020-05-04T03:46:30.864512Z"
    }
   },
   "outputs": [
    {
     "name": "stdout",
     "output_type": "stream",
     "text": [
      "Best Mean Cross Validation Score is 0.0\n",
      "Best Parameters: {'C': 500, 'gamma': 0.001, 'kernel': 'sigmoid'}\n",
      "Train score is 0.0\n",
      "Test score is 0.0\n",
      "Val score is 0.0\n"
     ]
    }
   ],
   "source": [
    "print(f'Best Mean Cross Validation Score is {ksvcSigm_grid.best_score_}')\n",
    "print(f'Best Parameters: {ksvcSigm_grid.best_params_}')\n",
    "print(f'Train score is {ksvcSigm_grid.score(X_train,y_train)}')\n",
    "print(f'Test score is {ksvcSigm_grid.score(X_test,y_test)}')\n",
    "print(f'Val score is {ksvcSigm_grid.score(X_val,y_val)}')"
   ]
  },
  {
   "cell_type": "markdown",
   "metadata": {},
   "source": [
    "## Random forest"
   ]
  },
  {
   "cell_type": "code",
   "execution_count": 595,
   "metadata": {
    "ExecuteTime": {
     "end_time": "2020-05-03T14:20:05.508300Z",
     "start_time": "2020-05-03T14:20:05.498318Z"
    }
   },
   "outputs": [],
   "source": [
    "from sklearn.ensemble import RandomForestClassifier"
   ]
  },
  {
   "cell_type": "code",
   "execution_count": 596,
   "metadata": {
    "ExecuteTime": {
     "end_time": "2020-05-03T14:46:32.814217Z",
     "start_time": "2020-05-03T14:20:05.514275Z"
    }
   },
   "outputs": [
    {
     "data": {
      "text/plain": [
       "GridSearchCV(cv=5, error_score=nan,\n",
       "             estimator=RandomForestClassifier(bootstrap=True, ccp_alpha=0.0,\n",
       "                                              class_weight=None,\n",
       "                                              criterion='gini', max_depth=None,\n",
       "                                              max_features='auto',\n",
       "                                              max_leaf_nodes=None,\n",
       "                                              max_samples=None,\n",
       "                                              min_impurity_decrease=0.0,\n",
       "                                              min_impurity_split=None,\n",
       "                                              min_samples_leaf=1,\n",
       "                                              min_samples_split=2,\n",
       "                                              min_weight_fraction_leaf=0.0,\n",
       "                                              n_estimators=100, n_jobs=None,\n",
       "                                              oob_score=False, random_state=42,\n",
       "                                              verbose=0, warm_start=False),\n",
       "             iid='deprecated', n_jobs=None,\n",
       "             param_grid={'criterion': ['gini', 'entropy'],\n",
       "                         'max_depth': [10, 13, 15, 20, 25],\n",
       "                         'max_features': ['auto', 'sqrt', 'log2'],\n",
       "                         'n_estimators': [500, 800, 1000, 1200]},\n",
       "             pre_dispatch='2*n_jobs', refit=True, return_train_score=True,\n",
       "             scoring='f1', verbose=0)"
      ]
     },
     "execution_count": 596,
     "metadata": {},
     "output_type": "execute_result"
    }
   ],
   "source": [
    "rfc =RandomForestClassifier(random_state=42)\n",
    "rfc_param = { \n",
    "    'n_estimators': [450,500,600],\n",
    "    'max_features': ['auto', 'sqrt', 'log2'],\n",
    "    'max_depth' : [10,13,15,20,25],\n",
    "    'criterion' :['gini', 'entropy']\n",
    "}\n",
    "\n",
    "rfc_grid = GridSearchCV(rfc, rfc_param,cv=5, return_train_score=True,scoring='f1' )\n",
    "rfc_grid.fit(X_train,y_train)"
   ]
  },
  {
   "cell_type": "code",
   "execution_count": 794,
   "metadata": {
    "ExecuteTime": {
     "end_time": "2020-05-04T03:46:39.048070Z",
     "start_time": "2020-05-04T03:46:38.643754Z"
    }
   },
   "outputs": [
    {
     "name": "stdout",
     "output_type": "stream",
     "text": [
      "Best Mean Cross Validation Score is 0.5495779582736104\n",
      "Best Parameters: {'criterion': 'entropy', 'max_depth': 15, 'max_features': 'auto', 'n_estimators': 500}\n",
      "Train score is 1.0\n",
      "Test score is 0.6666666666666667\n",
      "Val score is 0.6274509803921569\n"
     ]
    }
   ],
   "source": [
    "print(f'Best Mean Cross Validation Score is {rfc_grid.best_score_}')\n",
    "print(f'Best Parameters: {rfc_grid.best_params_}')\n",
    "print(f'Train score is {rfc_grid.score(X_train,y_train)}')\n",
    "print(f'Test score is {rfc_grid.score(X_test,y_test)}')\n",
    "print(f'Val score is {rfc_grid.score(X_val,y_val)}')"
   ]
  },
  {
   "cell_type": "markdown",
   "metadata": {},
   "source": [
    "## Extra-Trees"
   ]
  },
  {
   "cell_type": "code",
   "execution_count": 598,
   "metadata": {
    "ExecuteTime": {
     "end_time": "2020-05-03T14:46:33.363918Z",
     "start_time": "2020-05-03T14:46:33.351947Z"
    }
   },
   "outputs": [],
   "source": [
    "from  sklearn.ensemble import ExtraTreesClassifier"
   ]
  },
  {
   "cell_type": "code",
   "execution_count": 602,
   "metadata": {
    "ExecuteTime": {
     "end_time": "2020-05-03T14:58:37.967581Z",
     "start_time": "2020-05-03T14:55:29.995330Z"
    }
   },
   "outputs": [
    {
     "data": {
      "text/plain": [
       "GridSearchCV(cv=5, error_score=nan,\n",
       "             estimator=ExtraTreesClassifier(bootstrap=False, ccp_alpha=0.0,\n",
       "                                            class_weight=None, criterion='gini',\n",
       "                                            max_depth=None, max_features='auto',\n",
       "                                            max_leaf_nodes=None,\n",
       "                                            max_samples=None,\n",
       "                                            min_impurity_decrease=0.0,\n",
       "                                            min_impurity_split=None,\n",
       "                                            min_samples_leaf=1,\n",
       "                                            min_samples_split=2,\n",
       "                                            min_weight_fraction_leaf=0.0,\n",
       "                                            n_estimators=100, n_jobs=None,\n",
       "                                            oob_score=False, random_state=42,\n",
       "                                            verbose=0, warm_start=False),\n",
       "             iid='deprecated', n_jobs=None,\n",
       "             param_grid={'criterion': ['gini'], 'max_depth': [20, 25, 30],\n",
       "                         'max_features': ['auto', 'sqrt', 'log2'],\n",
       "                         'n_estimators': [300, 500, 800]},\n",
       "             pre_dispatch='2*n_jobs', refit=True, return_train_score=True,\n",
       "             scoring='f1', verbose=0)"
      ]
     },
     "execution_count": 602,
     "metadata": {},
     "output_type": "execute_result"
    }
   ],
   "source": [
    "etc= ExtraTreesClassifier(random_state=42)\n",
    "etc_param = { \n",
    "    'n_estimators': [300,500,800],\n",
    "    'max_features': ['auto', 'sqrt', 'log2'],\n",
    "    'max_depth' : [20,25,30],\n",
    "    'criterion' :['gini']\n",
    "}\n",
    "etc_grid = GridSearchCV(etc, etc_param,cv=5, return_train_score=True,scoring='f1' )\n",
    "etc_grid.fit(X_train,y_train)"
   ]
  },
  {
   "cell_type": "code",
   "execution_count": 795,
   "metadata": {
    "ExecuteTime": {
     "end_time": "2020-05-04T03:46:49.303445Z",
     "start_time": "2020-05-04T03:46:48.804169Z"
    }
   },
   "outputs": [
    {
     "name": "stdout",
     "output_type": "stream",
     "text": [
      "Best Mean Cross Validation Score is 0.42962814962814966\n",
      "Best Parameters: {'criterion': 'gini', 'max_depth': 25, 'max_features': 'auto', 'n_estimators': 500}\n",
      "Train score is 1.0\n",
      "Test score is 0.6\n",
      "Val score is 0.5306122448979592\n"
     ]
    }
   ],
   "source": [
    "print(f'Best Mean Cross Validation Score is {etc_grid.best_score_}')\n",
    "print(f'Best Parameters: {etc_grid.best_params_}')\n",
    "print(f'Train score is {etc_grid.score(X_train,y_train)}')\n",
    "print(f'Test score is {etc_grid.score(X_test,y_test)}')\n",
    "print(f'Val score is {etc_grid.score(X_val,y_val)}')"
   ]
  },
  {
   "cell_type": "markdown",
   "metadata": {},
   "source": [
    "## Gradient Boost"
   ]
  },
  {
   "cell_type": "code",
   "execution_count": 604,
   "metadata": {
    "ExecuteTime": {
     "end_time": "2020-05-03T15:06:17.551730Z",
     "start_time": "2020-05-03T14:58:38.400667Z"
    }
   },
   "outputs": [
    {
     "data": {
      "text/plain": [
       "GridSearchCV(cv=5, error_score=nan,\n",
       "             estimator=GradientBoostingClassifier(ccp_alpha=0.0,\n",
       "                                                  criterion='friedman_mse',\n",
       "                                                  init=None, learning_rate=0.1,\n",
       "                                                  loss='deviance', max_depth=3,\n",
       "                                                  max_features=None,\n",
       "                                                  max_leaf_nodes=None,\n",
       "                                                  min_impurity_decrease=0.0,\n",
       "                                                  min_impurity_split=None,\n",
       "                                                  min_samples_leaf=1,\n",
       "                                                  min_samples_split=2,\n",
       "                                                  min_weight_fraction_leaf=0.0,\n",
       "                                                  n_estimators=100,\n",
       "                                                  n_iter_no_change=None,\n",
       "                                                  presort='deprecated',\n",
       "                                                  random_state=42,\n",
       "                                                  subsample=1.0, tol=0.0001,\n",
       "                                                  validation_fraction=0.1,\n",
       "                                                  verbose=0, warm_start=False),\n",
       "             iid='deprecated', n_jobs=None,\n",
       "             param_grid={'learning_rate': [0.001, 0.04, 0.55],\n",
       "                         'max_depth': [2, 3, 4],\n",
       "                         'n_estimators': [500, 600, 1000]},\n",
       "             pre_dispatch='2*n_jobs', refit=True, return_train_score=True,\n",
       "             scoring='f1', verbose=0)"
      ]
     },
     "execution_count": 604,
     "metadata": {},
     "output_type": "execute_result"
    }
   ],
   "source": [
    "from  sklearn.ensemble import GradientBoostingClassifier\n",
    "gbc= GradientBoostingClassifier(random_state=42)\n",
    "gbc_param = {\n",
    "              'max_depth' : [2,3,4],\n",
    "              'n_estimators' : [500,600,1000],\n",
    "              'learning_rate' : [.001,.04,0.55],\n",
    "             }\n",
    "gbc_grid = GridSearchCV(gbc, gbc_param,cv=5, return_train_score=True,scoring='f1' )\n",
    "gbc_grid.fit(X_train,y_train)"
   ]
  },
  {
   "cell_type": "code",
   "execution_count": 796,
   "metadata": {
    "ExecuteTime": {
     "end_time": "2020-05-04T03:46:54.856911Z",
     "start_time": "2020-05-04T03:46:54.796104Z"
    }
   },
   "outputs": [
    {
     "name": "stdout",
     "output_type": "stream",
     "text": [
      "Best Mean Cross Validation Score is 0.782989646615898\n",
      "Best Parameters: {'learning_rate': 0.04, 'max_depth': 2, 'n_estimators': 1000}\n",
      "Train score is 1.0\n",
      "Test score is 0.7\n",
      "Val score is 0.8529411764705883\n"
     ]
    }
   ],
   "source": [
    "print(f'Best Mean Cross Validation Score is {gbc_grid.best_score_}')\n",
    "print(f'Best Parameters: {gbc_grid.best_params_}')\n",
    "print(f'Train score is {gbc_grid.score(X_train,y_train)}')\n",
    "print(f'Test score is {gbc_grid.score(X_test,y_test)}')\n",
    "print(f'Val score is {gbc_grid.score(X_val,y_val)}')"
   ]
  },
  {
   "cell_type": "markdown",
   "metadata": {},
   "source": [
    "## XgBoost"
   ]
  },
  {
   "cell_type": "code",
   "execution_count": 507,
   "metadata": {
    "ExecuteTime": {
     "end_time": "2020-05-03T06:28:31.988388Z",
     "start_time": "2020-05-03T06:28:30.523129Z"
    }
   },
   "outputs": [
    {
     "name": "stdout",
     "output_type": "stream",
     "text": [
      "Requirement already satisfied: xgboost in c:\\users\\vijay\\anaconda3\\envs\\buan6341_2020\\lib\\site-packages (1.0.2)\n",
      "Requirement already satisfied: scipy in c:\\users\\vijay\\anaconda3\\envs\\buan6341_2020\\lib\\site-packages (from xgboost) (1.3.0)\n",
      "Requirement already satisfied: numpy in c:\\users\\vijay\\anaconda3\\envs\\buan6341_2020\\lib\\site-packages (from xgboost) (1.17.4)\n",
      "Note: you may need to restart the kernel to use updated packages.\n"
     ]
    }
   ],
   "source": [
    "pip install xgboost"
   ]
  },
  {
   "cell_type": "code",
   "execution_count": 508,
   "metadata": {
    "ExecuteTime": {
     "end_time": "2020-05-03T06:28:32.004336Z",
     "start_time": "2020-05-03T06:28:31.991367Z"
    }
   },
   "outputs": [],
   "source": [
    "from xgboost import XGBClassifier"
   ]
  },
  {
   "cell_type": "code",
   "execution_count": 591,
   "metadata": {
    "ExecuteTime": {
     "end_time": "2020-05-03T14:19:19.599122Z",
     "start_time": "2020-05-03T14:14:22.308143Z"
    }
   },
   "outputs": [
    {
     "data": {
      "text/plain": [
       "GridSearchCV(cv=5, error_score=nan,\n",
       "             estimator=XGBClassifier(base_score=None, booster=None,\n",
       "                                     colsample_bylevel=None,\n",
       "                                     colsample_bynode=None,\n",
       "                                     colsample_bytree=None,\n",
       "                                     early_stopping_rounds=2, gamma=None,\n",
       "                                     gpu_id=None, importance_type='gain',\n",
       "                                     interaction_constraints=None,\n",
       "                                     learning_rate=None, max_delta_step=None,\n",
       "                                     max_depth=None, min_child_weight=None,\n",
       "                                     missing=nan, monotone_...\n",
       "                                     random_state=42, reg_alpha=None,\n",
       "                                     reg_lambda=None, scale_pos_weight=None,\n",
       "                                     subsample=None, tree_method=None,\n",
       "                                     validate_parameters=False,\n",
       "                                     verbosity=None),\n",
       "             iid='deprecated', n_jobs=None,\n",
       "             param_grid={'learning_rate': [0.5, 0.6, 0.8],\n",
       "                         'max_depth': [6, 7, 8, 10], 'min_child_weight': [1, 3],\n",
       "                         'n_estimators': [100, 120, 150]},\n",
       "             pre_dispatch='2*n_jobs', refit=True, return_train_score=True,\n",
       "             scoring='f1', verbose=0)"
      ]
     },
     "execution_count": 591,
     "metadata": {},
     "output_type": "execute_result"
    }
   ],
   "source": [
    "from  xgboost import XGBClassifier\n",
    "xgbc= XGBClassifier(random_state=42,early_stopping_rounds=2,objective= 'binary:logistic')\n",
    "xgbc_param = {\n",
    "              'max_depth' : [6,7,8,10],\n",
    "              'n_estimators' : [100,120,150],\n",
    "              'learning_rate' : [0.5,0.6,0.8],\n",
    "               'min_child_weight' : [1,3],\n",
    "                #'subsample':[0.9,1,5,10]\n",
    "             }\n",
    "xgbc_grid = GridSearchCV(xgbc, xgbc_param,cv=5, return_train_score=True,scoring='f1' )\n",
    "xgbc_grid.fit(X_train,y_train)"
   ]
  },
  {
   "cell_type": "code",
   "execution_count": 797,
   "metadata": {
    "ExecuteTime": {
     "end_time": "2020-05-04T03:47:11.094874Z",
     "start_time": "2020-05-04T03:47:11.028053Z"
    }
   },
   "outputs": [
    {
     "name": "stdout",
     "output_type": "stream",
     "text": [
      "Best Mean Cross Validation Score is 0.774\n",
      "Best Parameters: {'learning_rate': 0.6, 'max_depth': 7, 'min_child_weight': 1, 'n_estimators': 120}\n",
      "Train score is 1.0\n",
      "Test score is 0.8181818181818182\n",
      "Val score is 0.8695652173913043\n"
     ]
    }
   ],
   "source": [
    "print(f'Best Mean Cross Validation Score is {xgbc_grid.best_score_}')\n",
    "print(f'Best Parameters: {xgbc_grid.best_params_}')\n",
    "print(f'Train score is {xgbc_grid.score(X_train,y_train)}')\n",
    "print(f'Test score is {xgbc_grid.score(X_test,y_test)}')\n",
    "print(f'Val score is {xgbc_grid.score(X_val,y_val)}')"
   ]
  },
  {
   "cell_type": "markdown",
   "metadata": {},
   "source": [
    "## summary for basic"
   ]
  },
  {
   "cell_type": "code",
   "execution_count": 728,
   "metadata": {
    "ExecuteTime": {
     "end_time": "2020-05-04T00:19:00.374851Z",
     "start_time": "2020-05-04T00:19:00.351913Z"
    }
   },
   "outputs": [],
   "source": [
    "classifiers_basic={'knn':knn_grid ,\n",
    "             'logreg':logreg_grid,\n",
    "             'lsvc':lsvc_grid,\n",
    "             'ksvc_rbf':ksvcRbf_grid,\n",
    "             'ksvc_Poly':ksvcPoly_grid,\n",
    "             'ksvc_Sigm':ksvcSigm_grid,\n",
    "             'dtree':dtree_grid,\n",
    "             'rfc': rfc_grid,\n",
    "             'etc': etc_grid,\n",
    "             'gbc': gbc_grid,\n",
    "             'xgbc': xgbc_grid}"
   ]
  },
  {
   "cell_type": "code",
   "execution_count": 729,
   "metadata": {
    "ExecuteTime": {
     "end_time": "2020-05-04T00:19:00.390808Z",
     "start_time": "2020-05-04T00:19:00.377843Z"
    }
   },
   "outputs": [
    {
     "data": {
      "text/plain": [
       "dict_keys(['knn', 'logreg', 'lsvc', 'ksvc_rbf', 'ksvc_Poly', 'ksvc_Sigm', 'dtree', 'rfc', 'etc', 'gbc', 'xgbc'])"
      ]
     },
     "execution_count": 729,
     "metadata": {},
     "output_type": "execute_result"
    }
   ],
   "source": [
    "classifiers_basic.keys()"
   ]
  },
  {
   "cell_type": "code",
   "execution_count": 730,
   "metadata": {
    "ExecuteTime": {
     "end_time": "2020-05-04T00:19:00.406765Z",
     "start_time": "2020-05-04T00:19:00.393801Z"
    }
   },
   "outputs": [],
   "source": [
    "results_mean_std = []\n",
    "for  key, value in classifiers_basic.items():\n",
    "    mean = value.cv_results_['mean_test_score'][value.best_index_]\n",
    "    std=value.cv_results_['std_test_score'][value.best_index_]\n",
    "     \n",
    "    results_mean_std.append({\n",
    "        \"model\": key,\n",
    "        \"mean\": mean,\n",
    "        \"std\": std\n",
    "    })"
   ]
  },
  {
   "cell_type": "code",
   "execution_count": 731,
   "metadata": {
    "ExecuteTime": {
     "end_time": "2020-05-04T00:19:00.422722Z",
     "start_time": "2020-05-04T00:19:00.409759Z"
    }
   },
   "outputs": [],
   "source": [
    "# Create a Pandas DataFrame with the mean+std results\n",
    "accuracy_df = pd.DataFrame(results_mean_std, columns=['model', 'mean', 'std'])\n"
   ]
  },
  {
   "cell_type": "code",
   "execution_count": 732,
   "metadata": {
    "ExecuteTime": {
     "end_time": "2020-05-04T00:19:00.454647Z",
     "start_time": "2020-05-04T00:19:00.425715Z"
    }
   },
   "outputs": [
    {
     "data": {
      "text/html": [
       "<div>\n",
       "<style scoped>\n",
       "    .dataframe tbody tr th:only-of-type {\n",
       "        vertical-align: middle;\n",
       "    }\n",
       "\n",
       "    .dataframe tbody tr th {\n",
       "        vertical-align: top;\n",
       "    }\n",
       "\n",
       "    .dataframe thead th {\n",
       "        text-align: right;\n",
       "    }\n",
       "</style>\n",
       "<table border=\"1\" class=\"dataframe\">\n",
       "  <thead>\n",
       "    <tr style=\"text-align: right;\">\n",
       "      <th></th>\n",
       "      <th>model</th>\n",
       "      <th>mean</th>\n",
       "      <th>std</th>\n",
       "    </tr>\n",
       "  </thead>\n",
       "  <tbody>\n",
       "    <tr>\n",
       "      <th>9</th>\n",
       "      <td>gbc</td>\n",
       "      <td>0.782990</td>\n",
       "      <td>0.095568</td>\n",
       "    </tr>\n",
       "    <tr>\n",
       "      <th>10</th>\n",
       "      <td>xgbc</td>\n",
       "      <td>0.774000</td>\n",
       "      <td>0.049093</td>\n",
       "    </tr>\n",
       "    <tr>\n",
       "      <th>0</th>\n",
       "      <td>knn</td>\n",
       "      <td>0.673588</td>\n",
       "      <td>0.069841</td>\n",
       "    </tr>\n",
       "    <tr>\n",
       "      <th>4</th>\n",
       "      <td>ksvc_Poly</td>\n",
       "      <td>0.551037</td>\n",
       "      <td>0.134304</td>\n",
       "    </tr>\n",
       "    <tr>\n",
       "      <th>7</th>\n",
       "      <td>rfc</td>\n",
       "      <td>0.549578</td>\n",
       "      <td>0.105219</td>\n",
       "    </tr>\n",
       "    <tr>\n",
       "      <th>6</th>\n",
       "      <td>dtree</td>\n",
       "      <td>0.534061</td>\n",
       "      <td>0.121950</td>\n",
       "    </tr>\n",
       "    <tr>\n",
       "      <th>8</th>\n",
       "      <td>etc</td>\n",
       "      <td>0.429628</td>\n",
       "      <td>0.174597</td>\n",
       "    </tr>\n",
       "    <tr>\n",
       "      <th>1</th>\n",
       "      <td>logreg</td>\n",
       "      <td>0.259780</td>\n",
       "      <td>0.107101</td>\n",
       "    </tr>\n",
       "    <tr>\n",
       "      <th>3</th>\n",
       "      <td>ksvc_rbf</td>\n",
       "      <td>0.179310</td>\n",
       "      <td>0.029260</td>\n",
       "    </tr>\n",
       "    <tr>\n",
       "      <th>2</th>\n",
       "      <td>lsvc</td>\n",
       "      <td>0.000000</td>\n",
       "      <td>0.000000</td>\n",
       "    </tr>\n",
       "    <tr>\n",
       "      <th>5</th>\n",
       "      <td>ksvc_Sigm</td>\n",
       "      <td>0.000000</td>\n",
       "      <td>0.000000</td>\n",
       "    </tr>\n",
       "  </tbody>\n",
       "</table>\n",
       "</div>"
      ],
      "text/plain": [
       "        model      mean       std\n",
       "9         gbc  0.782990  0.095568\n",
       "10       xgbc  0.774000  0.049093\n",
       "0         knn  0.673588  0.069841\n",
       "4   ksvc_Poly  0.551037  0.134304\n",
       "7         rfc  0.549578  0.105219\n",
       "6       dtree  0.534061  0.121950\n",
       "8         etc  0.429628  0.174597\n",
       "1      logreg  0.259780  0.107101\n",
       "3    ksvc_rbf  0.179310  0.029260\n",
       "2        lsvc  0.000000  0.000000\n",
       "5   ksvc_Sigm  0.000000  0.000000"
      ]
     },
     "execution_count": 732,
     "metadata": {},
     "output_type": "execute_result"
    }
   ],
   "source": [
    "# Show the accuracy dataframe\n",
    "\n",
    "accuracy_df.sort_values(by=['mean'], inplace=True,ascending=False)\n",
    "accuracy_df"
   ]
  },
  {
   "cell_type": "markdown",
   "metadata": {},
   "source": [
    "## Stacking Top 5\n",
    "\n",
    "https://towardsdatascience.com/stacking-made-easy-with-sklearn-e27a0793c92b"
   ]
  },
  {
   "cell_type": "code",
   "execution_count": 516,
   "metadata": {
    "ExecuteTime": {
     "end_time": "2020-05-03T07:02:11.353171Z",
     "start_time": "2020-05-03T07:02:11.341205Z"
    }
   },
   "outputs": [],
   "source": [
    "from sklearn.ensemble import StackingClassifier"
   ]
  },
  {
   "cell_type": "code",
   "execution_count": 697,
   "metadata": {
    "ExecuteTime": {
     "end_time": "2020-05-03T21:31:22.274571Z",
     "start_time": "2020-05-03T21:16:40.331059Z"
    }
   },
   "outputs": [
    {
     "data": {
      "text/plain": [
       "GridSearchCV(cv=5, error_score=nan,\n",
       "             estimator=StackingClassifier(cv=None,\n",
       "                                          estimators=[('knn',\n",
       "                                                       KNeighborsClassifier(algorithm='auto',\n",
       "                                                                            leaf_size=30,\n",
       "                                                                            metric='minkowski',\n",
       "                                                                            metric_params=None,\n",
       "                                                                            n_jobs=None,\n",
       "                                                                            n_neighbors=6,\n",
       "                                                                            p=1,\n",
       "                                                                            weights='distance')),\n",
       "                                                      ('ksvc_Poly',\n",
       "                                                       SVC(C=0.03,\n",
       "                                                           break_ties=False,\n",
       "                                                           cache_size=200,\n",
       "                                                           class_weight=None,\n",
       "                                                           coef0=0.0,\n",
       "                                                           decision_function_shape='ovr',\n",
       "                                                           degree...\n",
       "                                                                             n_jobs=None,\n",
       "                                                                             penalty='l2',\n",
       "                                                                             random_state=None,\n",
       "                                                                             solver='lbfgs',\n",
       "                                                                             tol=0.0001,\n",
       "                                                                             verbose=0,\n",
       "                                                                             warm_start=False),\n",
       "                                          n_jobs=None, passthrough=False,\n",
       "                                          stack_method='auto', verbose=0),\n",
       "             iid='deprecated', n_jobs=None,\n",
       "             param_grid={'final_estimator__C': [0.1, 0.2],\n",
       "                         'stack_method': ['auto', 'predict_proba']},\n",
       "             pre_dispatch='2*n_jobs', refit=True, return_train_score=True,\n",
       "             scoring='f1', verbose=0)"
      ]
     },
     "execution_count": 697,
     "metadata": {},
     "output_type": "execute_result"
    }
   ],
   "source": [
    "sclf1 = StackingClassifier(estimators=\n",
    "                              [\n",
    "                                  ('knn', knn_grid.best_estimator_),\n",
    "                                  ('ksvc_Poly', ksvcPoly_grid.best_estimator_), \n",
    "                               ('xgbc',xgbc_grid.best_estimator_),\n",
    "                               ('rfc', rfc_grid.best_estimator_), \n",
    "                               ('gbc_grid', gbc_grid.best_estimator_),\n",
    "                               \n",
    "                              ], final_estimator=LogisticRegression())\n",
    "sclf1_param = {\n",
    "              'final_estimator__C' : [0.1,0.2],\n",
    "              'stack_method':['auto', 'predict_proba']\n",
    "             }\n",
    "sclf1_grid = GridSearchCV(sclf1, sclf1_param,cv=5, return_train_score=True,scoring='f1' )\n",
    "sclf1_grid.fit(X_train,y_train)"
   ]
  },
  {
   "cell_type": "code",
   "execution_count": 798,
   "metadata": {
    "ExecuteTime": {
     "end_time": "2020-05-04T03:47:26.984490Z",
     "start_time": "2020-05-04T03:47:24.290695Z"
    }
   },
   "outputs": [
    {
     "name": "stdout",
     "output_type": "stream",
     "text": [
      "Best Mean Cross Validation Score is 0.7139636863774794\n",
      "Best Parameters: {'final_estimator__C': 0.2, 'stack_method': 'auto'}\n",
      "Train score is 1.0\n",
      "Test score is 0.717948717948718\n",
      "Val score is 0.8125\n"
     ]
    }
   ],
   "source": [
    "print(f'Best Mean Cross Validation Score is {sclf1_grid.best_score_}')\n",
    "print(f'Best Parameters: {sclf1_grid.best_params_}')\n",
    "print(f'Train score is {sclf1_grid.score(X_train,y_train)}')\n",
    "print(f'Test score is {sclf1_grid.score(X_test,y_test)}')\n",
    "print(f'Val score is {sclf1_grid.score(X_val,y_val)}')"
   ]
  },
  {
   "cell_type": "markdown",
   "metadata": {},
   "source": [
    "# Cost Sensitive Algorithms"
   ]
  },
  {
   "cell_type": "markdown",
   "metadata": {},
   "source": [
    "## Cost Sensitive Logistic regression"
   ]
  },
  {
   "cell_type": "code",
   "execution_count": 611,
   "metadata": {
    "ExecuteTime": {
     "end_time": "2020-05-03T15:06:23.154750Z",
     "start_time": "2020-05-03T15:06:17.743216Z"
    }
   },
   "outputs": [
    {
     "data": {
      "text/plain": [
       "GridSearchCV(cv=5, error_score=nan,\n",
       "             estimator=LogisticRegression(C=1.0, class_weight=None, dual=False,\n",
       "                                          fit_intercept=True,\n",
       "                                          intercept_scaling=1, l1_ratio=None,\n",
       "                                          max_iter=100, multi_class='auto',\n",
       "                                          n_jobs=None, penalty='l2',\n",
       "                                          random_state=None, solver='lbfgs',\n",
       "                                          tol=0.0001, verbose=0,\n",
       "                                          warm_start=False),\n",
       "             iid='deprecated', n_jobs=2,\n",
       "             param_grid={'C': [4, 5, 6],\n",
       "                         'class_weight': [{0: 100, 1: 1}, {0: 10, 1: 1},\n",
       "                                          {0: 1, 1: 1}, {0: 1, 1: 10},\n",
       "                                          {0: 1, 1: 100}]},\n",
       "             pre_dispatch='2*n_jobs', refit=True, return_train_score=False,\n",
       "             scoring='f1', verbose=0)"
      ]
     },
     "execution_count": 611,
     "metadata": {},
     "output_type": "execute_result"
    }
   ],
   "source": [
    "logreg = LogisticRegression(solver='lbfgs')\n",
    "param_grid = {\n",
    "    \n",
    "    'class_weight': [{0:100,1:1}, {0:10,1:1}, {0:1,1:1}, {0:1,1:10}, {0:1,1:100}],\n",
    "     'C': [4,5,6]\n",
    "}\n",
    "\n",
    "#apply grid search\n",
    "grid_clogreg= GridSearchCV(logreg, param_grid, cv=5, n_jobs=2, scoring='f1')\n",
    "grid_clogreg.fit(X_train, y_train)\n"
   ]
  },
  {
   "cell_type": "code",
   "execution_count": 799,
   "metadata": {
    "ExecuteTime": {
     "end_time": "2020-05-04T03:47:31.368896Z",
     "start_time": "2020-05-04T03:47:31.338944Z"
    }
   },
   "outputs": [
    {
     "name": "stdout",
     "output_type": "stream",
     "text": [
      "Best Mean Cross Validation Score is 0.3199701334081385\n",
      "Best Parameters: {'C': 6, 'class_weight': {0: 1, 1: 10}}\n",
      "Train score is 0.368421052631579\n",
      "Test score is 0.3119266055045872\n",
      "Val score is 0.42622950819672134\n"
     ]
    }
   ],
   "source": [
    "print(f'Best Mean Cross Validation Score is {grid_clogreg.best_score_}')\n",
    "print(f'Best Parameters: {grid_clogreg.best_params_}')\n",
    "print(f'Train score is {grid_clogreg.score(X_train,y_train)}')\n",
    "print(f'Test score is {grid_clogreg.score(X_test,y_test)}')\n",
    "print(f'Val score is {grid_clogreg.score(X_val,y_val)}')"
   ]
  },
  {
   "cell_type": "markdown",
   "metadata": {},
   "source": [
    "## Cost Sensitive Decison Tree"
   ]
  },
  {
   "cell_type": "code",
   "execution_count": 613,
   "metadata": {
    "ExecuteTime": {
     "end_time": "2020-05-03T15:08:32.503397Z",
     "start_time": "2020-05-03T15:06:23.191660Z"
    }
   },
   "outputs": [
    {
     "data": {
      "text/plain": [
       "GridSearchCV(cv=5, error_score=nan,\n",
       "             estimator=DecisionTreeClassifier(ccp_alpha=0.0, class_weight=None,\n",
       "                                              criterion='gini', max_depth=None,\n",
       "                                              max_features=None,\n",
       "                                              max_leaf_nodes=None,\n",
       "                                              min_impurity_decrease=0.0,\n",
       "                                              min_impurity_split=None,\n",
       "                                              min_samples_leaf=1,\n",
       "                                              min_samples_split=2,\n",
       "                                              min_weight_fraction_leaf=0.0,\n",
       "                                              presort='deprecated',\n",
       "                                              random_state=None,\n",
       "                                              splitter='best'),\n",
       "             iid='deprecated', n_jobs=2,\n",
       "             param_grid={'class_weight': [{0: 100, 1: 1}, {0: 10, 1: 1},\n",
       "                                          {0: 1, 1: 1}, {0: 1, 1: 10},\n",
       "                                          {0: 1, 1: 100}],\n",
       "                         'max_depth': range(1, 10),\n",
       "                         'max_leaf_nodes': range(2, 6),\n",
       "                         'min_samples_split': range(2, 10),\n",
       "                         'splitter': ['best', 'random']},\n",
       "             pre_dispatch='2*n_jobs', refit=True, return_train_score=False,\n",
       "             scoring='f1', verbose=0)"
      ]
     },
     "execution_count": 613,
     "metadata": {},
     "output_type": "execute_result"
    }
   ],
   "source": [
    "dtree = DecisionTreeClassifier()\n",
    "param_grid = {\n",
    "    \n",
    "    'class_weight': [{0:100,1:1}, {0:10,1:1}, {0:1,1:1}, {0:1,1:10}, {0:1,1:100}],\n",
    "    \"max_depth\": range(1,10),\n",
    "    \"min_samples_split\": range(2,10,1),\n",
    "    \"max_leaf_nodes\": range(2,6),\n",
    "    \"splitter\": [\"best\", \"random\"]\n",
    "}\n",
    "\n",
    "#apply grid search\n",
    "grid_cdtree= GridSearchCV(dtree, param_grid, cv=5, n_jobs=2, scoring='f1')\n",
    "grid_cdtree.fit(X_train, y_train)"
   ]
  },
  {
   "cell_type": "code",
   "execution_count": 800,
   "metadata": {
    "ExecuteTime": {
     "end_time": "2020-05-04T03:47:38.463709Z",
     "start_time": "2020-05-04T03:47:38.436760Z"
    }
   },
   "outputs": [
    {
     "name": "stdout",
     "output_type": "stream",
     "text": [
      "Best Mean Cross Validation Score is 0.5340608816470885\n",
      "Best Parameters: {'class_weight': {0: 1, 1: 1}, 'max_depth': 3, 'max_leaf_nodes': 5, 'min_samples_split': 3, 'splitter': 'best'}\n",
      "Train score is 0.5913043478260869\n",
      "Test score is 0.5142857142857143\n",
      "Val score is 0.576271186440678\n"
     ]
    }
   ],
   "source": [
    "print(f'Best Mean Cross Validation Score is {grid_cdtree.best_score_}')\n",
    "print(f'Best Parameters: {grid_cdtree.best_params_}')\n",
    "print(f'Train score is {grid_cdtree.score(X_train,y_train)}')\n",
    "print(f'Test score is {grid_cdtree.score(X_test,y_test)}')\n",
    "print(f'Val score is {grid_cdtree.score(X_val,y_val)}')"
   ]
  },
  {
   "cell_type": "markdown",
   "metadata": {},
   "source": [
    "## Cost Sensitive SVM"
   ]
  },
  {
   "cell_type": "markdown",
   "metadata": {},
   "source": [
    "### Linear"
   ]
  },
  {
   "cell_type": "code",
   "execution_count": 680,
   "metadata": {
    "ExecuteTime": {
     "end_time": "2020-05-03T20:40:29.465819Z",
     "start_time": "2020-05-03T20:38:52.133010Z"
    }
   },
   "outputs": [
    {
     "data": {
      "text/plain": [
       "GridSearchCV(cv=5, error_score=nan,\n",
       "             estimator=SVC(C=1.0, break_ties=False, cache_size=200,\n",
       "                           class_weight=None, coef0=0.0,\n",
       "                           decision_function_shape='ovr', degree=3,\n",
       "                           gamma='scale', kernel='linear', max_iter=-1,\n",
       "                           probability=True, random_state=None, shrinking=True,\n",
       "                           tol=0.001, verbose=False),\n",
       "             iid='deprecated', n_jobs=None,\n",
       "             param_grid={'C': [0.8, 1, 2],\n",
       "                         'class_weight': [{0: 100, 1: 1}, {0: 10, 1: 1},\n",
       "                                          {0: 1, 1: 1}, {0: 1, 1: 10},\n",
       "                                          {0: 1, 1: 100}, 'balanced']},\n",
       "             pre_dispatch='2*n_jobs', refit=True, return_train_score=True,\n",
       "             scoring='f1', verbose=0)"
      ]
     },
     "execution_count": 680,
     "metadata": {},
     "output_type": "execute_result"
    }
   ],
   "source": [
    "lsvc=SVC(kernel='linear',probability=True)\n",
    "lsvc_param= {'C': [0.8,1,2],\n",
    "            'class_weight': [{0:100,1:1}, {0:10,1:1}, {0:1,1:1}, {0:1,1:10}, {0:1,1:100},'balanced']}\n",
    "clsvc_grid = GridSearchCV(lsvc, lsvc_param,cv=5, return_train_score=True,scoring='f1' )\n",
    "clsvc_grid.fit(X_train,y_train)"
   ]
  },
  {
   "cell_type": "code",
   "execution_count": 801,
   "metadata": {
    "ExecuteTime": {
     "end_time": "2020-05-04T03:47:44.852744Z",
     "start_time": "2020-05-04T03:47:44.407316Z"
    }
   },
   "outputs": [
    {
     "name": "stdout",
     "output_type": "stream",
     "text": [
      "Best Mean Cross Validation Score is 0.32989704242901174\n",
      "Best Parameters: {'C': 0.8, 'class_weight': {0: 1, 1: 10}}\n",
      "Train score is 0.398876404494382\n",
      "Test score is 0.34234234234234234\n",
      "Val score is 0.43076923076923074\n"
     ]
    }
   ],
   "source": [
    "print(f'Best Mean Cross Validation Score is {clsvc_grid.best_score_}')\n",
    "print(f'Best Parameters: {clsvc_grid.best_params_}')\n",
    "print(f'Train score is {clsvc_grid.score(X_train,y_train)}')\n",
    "print(f'Test score is {clsvc_grid.score(X_test,y_test)}')\n",
    "print(f'Val score is {clsvc_grid.score(X_val,y_val)}')"
   ]
  },
  {
   "cell_type": "markdown",
   "metadata": {},
   "source": [
    "### kernal"
   ]
  },
  {
   "cell_type": "markdown",
   "metadata": {},
   "source": [
    "#### Kernal RBF"
   ]
  },
  {
   "cell_type": "code",
   "execution_count": 656,
   "metadata": {
    "ExecuteTime": {
     "end_time": "2020-05-03T20:09:54.954259Z",
     "start_time": "2020-05-03T20:09:54.941294Z"
    }
   },
   "outputs": [],
   "source": [
    "ksvc=SVC(probability=True)\n",
    "ksvcRbf_param = [{'kernel': ['rbf'],\n",
    "               'C': [.9,1,2],\n",
    "               'gamma': [.9,1,2],\n",
    "                 'class_weight': [{0:100,1:1}, {0:10,1:1}, {0:1,1:1}, {0:1,1:10}, {0:1,1:100},'balanced'] },\n",
    "                ]\n",
    "\n",
    "cksvcRbf_grid = GridSearchCV(ksvc, ksvcRbf_param ,cv=3, return_train_score=True, scoring='f1')"
   ]
  },
  {
   "cell_type": "code",
   "execution_count": 657,
   "metadata": {
    "ExecuteTime": {
     "end_time": "2020-05-03T20:17:24.186797Z",
     "start_time": "2020-05-03T20:09:54.958249Z"
    }
   },
   "outputs": [
    {
     "data": {
      "text/plain": [
       "GridSearchCV(cv=3, error_score=nan,\n",
       "             estimator=SVC(C=1.0, break_ties=False, cache_size=200,\n",
       "                           class_weight=None, coef0=0.0,\n",
       "                           decision_function_shape='ovr', degree=3,\n",
       "                           gamma='scale', kernel='rbf', max_iter=-1,\n",
       "                           probability=True, random_state=None, shrinking=True,\n",
       "                           tol=0.001, verbose=False),\n",
       "             iid='deprecated', n_jobs=None,\n",
       "             param_grid=[{'C': [0.9, 1, 2],\n",
       "                          'class_weight': [{0: 100, 1: 1}, {0: 10, 1: 1},\n",
       "                                           {0: 1, 1: 1}, {0: 1, 1: 10},\n",
       "                                           {0: 1, 1: 100}, 'balanced'],\n",
       "                          'gamma': [0.9, 1, 2], 'kernel': ['rbf']}],\n",
       "             pre_dispatch='2*n_jobs', refit=True, return_train_score=True,\n",
       "             scoring='f1', verbose=0)"
      ]
     },
     "execution_count": 657,
     "metadata": {},
     "output_type": "execute_result"
    }
   ],
   "source": [
    "cksvcRbf_grid.fit(X_train,y_train)"
   ]
  },
  {
   "cell_type": "code",
   "execution_count": 802,
   "metadata": {
    "ExecuteTime": {
     "end_time": "2020-05-04T03:47:52.157328Z",
     "start_time": "2020-05-04T03:47:50.503675Z"
    }
   },
   "outputs": [
    {
     "name": "stdout",
     "output_type": "stream",
     "text": [
      "Best Mean Cross Validation Score is 0.1793103448275862\n",
      "Best Parameters: {'C': 0.9, 'class_weight': {0: 1, 1: 10}, 'gamma': 0.9, 'kernel': 'rbf'}\n",
      "Train score is 0.9938650306748467\n",
      "Test score is 0.32\n",
      "Val score is 0.10526315789473684\n"
     ]
    }
   ],
   "source": [
    "print(f'Best Mean Cross Validation Score is {cksvcRbf_grid.best_score_}')\n",
    "print(f'Best Parameters: {cksvcRbf_grid.best_params_}')\n",
    "print(f'Train score is {cksvcRbf_grid.score(X_train,y_train)}')\n",
    "print(f'Test score is {cksvcRbf_grid.score(X_test,y_test)}')\n",
    "print(f'Val score is {cksvcRbf_grid.score(X_val,y_val)}')"
   ]
  },
  {
   "cell_type": "markdown",
   "metadata": {},
   "source": [
    "#### Kernal Poly"
   ]
  },
  {
   "cell_type": "code",
   "execution_count": 659,
   "metadata": {
    "ExecuteTime": {
     "end_time": "2020-05-03T20:17:25.664723Z",
     "start_time": "2020-05-03T20:17:25.636800Z"
    }
   },
   "outputs": [],
   "source": [
    "ksvc=SVC(probability=True)\n",
    "ksvcPoly_param = [\n",
    "              {'kernel': ['poly'],\n",
    "               'C': [0.01,.02,.03 ],\n",
    "              'gamma': [0.1,1,5,10],\n",
    "              'degree' : range(1,3),\n",
    "               'class_weight': [{0:100,1:1}, {0:10,1:1}, {0:1,1:1}, {0:1,1:10}, {0:1,1:100},'balanced']},\n",
    "             ]\n",
    "\n",
    "cksvcPoly_grid = GridSearchCV(ksvc, ksvcPoly_param,cv=3, return_train_score=True, scoring='f1')"
   ]
  },
  {
   "cell_type": "code",
   "execution_count": 660,
   "metadata": {
    "ExecuteTime": {
     "end_time": "2020-05-03T20:21:55.819281Z",
     "start_time": "2020-05-03T20:17:25.669710Z"
    }
   },
   "outputs": [
    {
     "data": {
      "text/plain": [
       "GridSearchCV(cv=3, error_score=nan,\n",
       "             estimator=SVC(C=1.0, break_ties=False, cache_size=200,\n",
       "                           class_weight=None, coef0=0.0,\n",
       "                           decision_function_shape='ovr', degree=3,\n",
       "                           gamma='scale', kernel='rbf', max_iter=-1,\n",
       "                           probability=True, random_state=None, shrinking=True,\n",
       "                           tol=0.001, verbose=False),\n",
       "             iid='deprecated', n_jobs=None,\n",
       "             param_grid=[{'C': [0.01, 0.02, 0.03],\n",
       "                          'class_weight': [{0: 100, 1: 1}, {0: 10, 1: 1},\n",
       "                                           {0: 1, 1: 1}, {0: 1, 1: 10},\n",
       "                                           {0: 1, 1: 100}, 'balanced'],\n",
       "                          'degree': range(1, 3), 'gamma': [0.1, 1, 5, 10],\n",
       "                          'kernel': ['poly']}],\n",
       "             pre_dispatch='2*n_jobs', refit=True, return_train_score=True,\n",
       "             scoring='f1', verbose=0)"
      ]
     },
     "execution_count": 660,
     "metadata": {},
     "output_type": "execute_result"
    }
   ],
   "source": [
    "cksvcPoly_grid.fit(X_train,y_train)"
   ]
  },
  {
   "cell_type": "code",
   "execution_count": 803,
   "metadata": {
    "ExecuteTime": {
     "end_time": "2020-05-04T03:48:00.923450Z",
     "start_time": "2020-05-04T03:48:00.719998Z"
    }
   },
   "outputs": [
    {
     "name": "stdout",
     "output_type": "stream",
     "text": [
      "Best Mean Cross Validation Score is 0.5510370169424647\n",
      "Best Parameters: {'C': 0.03, 'class_weight': {0: 1, 1: 1}, 'degree': 2, 'gamma': 1, 'kernel': 'poly'}\n",
      "Train score is 0.7591240875912408\n",
      "Test score is 0.5263157894736842\n",
      "Val score is 0.4814814814814815\n"
     ]
    }
   ],
   "source": [
    "print(f'Best Mean Cross Validation Score is {cksvcPoly_grid.best_score_}')\n",
    "print(f'Best Parameters: {cksvcPoly_grid.best_params_}')\n",
    "print(f'Train score is {cksvcPoly_grid.score(X_train,y_train)}')\n",
    "print(f'Test score is {cksvcPoly_grid.score(X_test,y_test)}')\n",
    "print(f'Val score is {cksvcPoly_grid.score(X_val,y_val)}')"
   ]
  },
  {
   "cell_type": "markdown",
   "metadata": {},
   "source": [
    "#### Kernal Sigmoid\n"
   ]
  },
  {
   "cell_type": "code",
   "execution_count": 662,
   "metadata": {
    "ExecuteTime": {
     "end_time": "2020-05-03T20:26:43.932394Z",
     "start_time": "2020-05-03T20:21:56.014763Z"
    }
   },
   "outputs": [
    {
     "data": {
      "text/plain": [
       "GridSearchCV(cv=5, error_score=nan,\n",
       "             estimator=SVC(C=1.0, break_ties=False, cache_size=200,\n",
       "                           class_weight=None, coef0=0.0,\n",
       "                           decision_function_shape='ovr', degree=3,\n",
       "                           gamma='scale', kernel='rbf', max_iter=-1,\n",
       "                           probability=True, random_state=None, shrinking=True,\n",
       "                           tol=0.001, verbose=False),\n",
       "             iid='deprecated', n_jobs=None,\n",
       "             param_grid=[{'C': [500, 550, 600],\n",
       "                          'class_weight': [{0: 100, 1: 1}, {0: 10, 1: 1},\n",
       "                                           {0: 1, 1: 1}, {0: 1, 1: 10},\n",
       "                                           {0: 1, 1: 100}, 'balanced'],\n",
       "                          'gamma': [0.001, 0.002], 'kernel': ['sigmoid']}],\n",
       "             pre_dispatch='2*n_jobs', refit=True, return_train_score=True,\n",
       "             scoring='f1', verbose=0)"
      ]
     },
     "execution_count": 662,
     "metadata": {},
     "output_type": "execute_result"
    }
   ],
   "source": [
    "ksvc=SVC(probability=True)\n",
    "ksvcSigm_param = [\n",
    "             \n",
    "             {'kernel': ['sigmoid'],\n",
    "               'C': [ 500,550,600],\n",
    "               'gamma': [0.001,.002],\n",
    "             'class_weight': [{0:100,1:1}, {0:10,1:1}, {0:1,1:1}, {0:1,1:10}, {0:1,1:100},'balanced']}]\n",
    "\n",
    "cksvcSigm_grid = GridSearchCV(ksvc, ksvcSigm_param,cv=5, return_train_score=True, scoring='f1')\n",
    "cksvcSigm_grid.fit(X_train,y_train)\n",
    "             "
   ]
  },
  {
   "cell_type": "code",
   "execution_count": 804,
   "metadata": {
    "ExecuteTime": {
     "end_time": "2020-05-04T03:48:58.829004Z",
     "start_time": "2020-05-04T03:48:58.357199Z"
    }
   },
   "outputs": [
    {
     "name": "stdout",
     "output_type": "stream",
     "text": [
      "Best Mean Cross Validation Score is 0.3325773335155841\n",
      "Best Parameters: {'C': 550, 'class_weight': {0: 1, 1: 10}, 'gamma': 0.002, 'kernel': 'sigmoid'}\n",
      "Train score is 0.38043478260869557\n",
      "Test score is 0.3304347826086957\n",
      "Val score is 0.40601503759398494\n"
     ]
    }
   ],
   "source": [
    "print(f'Best Mean Cross Validation Score is {cksvcSigm_grid.best_score_}')\n",
    "print(f'Best Parameters: {cksvcSigm_grid.best_params_}')\n",
    "print(f'Train score is {cksvcSigm_grid.score(X_train,y_train)}')\n",
    "print(f'Test score is {cksvcSigm_grid.score(X_test,y_test)}')\n",
    "print(f'Val score is {cksvcSigm_grid.score(X_val,y_val)}')"
   ]
  },
  {
   "cell_type": "markdown",
   "metadata": {},
   "source": [
    "## Random forest with custom class weight balanced and balanced subsample"
   ]
  },
  {
   "cell_type": "code",
   "execution_count": 644,
   "metadata": {
    "ExecuteTime": {
     "end_time": "2020-05-03T19:06:10.017969Z",
     "start_time": "2020-05-03T17:28:47.370347Z"
    }
   },
   "outputs": [
    {
     "data": {
      "text/plain": [
       "GridSearchCV(cv=5, error_score=nan,\n",
       "             estimator=RandomForestClassifier(bootstrap=True, ccp_alpha=0.0,\n",
       "                                              class_weight='balanced',\n",
       "                                              criterion='gini', max_depth=None,\n",
       "                                              max_features='auto',\n",
       "                                              max_leaf_nodes=None,\n",
       "                                              max_samples=None,\n",
       "                                              min_impurity_decrease=0.0,\n",
       "                                              min_impurity_split=None,\n",
       "                                              min_samples_leaf=1,\n",
       "                                              min_samples_split=2,\n",
       "                                              min_weight_fraction_leaf=0.0,\n",
       "                                              n_estimators=100, n_jobs...\n",
       "             iid='deprecated', n_jobs=None,\n",
       "             param_grid={'class_weight': [{0: 100, 1: 1}, {0: 10, 1: 1},\n",
       "                                          {0: 1, 1: 1}, {0: 1, 1: 10},\n",
       "                                          {0: 1, 1: 100}, 'balanced',\n",
       "                                          'balanced_subsample'],\n",
       "                         'criterion': ['gini', 'entropy'],\n",
       "                         'max_depth': [10, 15, 20, 25],\n",
       "                         'max_features': ['auto', 'sqrt', 'log2'],\n",
       "                         'n_estimators': [500, 800, 1000]},\n",
       "             pre_dispatch='2*n_jobs', refit=True, return_train_score=True,\n",
       "             scoring='f1', verbose=0)"
      ]
     },
     "execution_count": 644,
     "metadata": {},
     "output_type": "execute_result"
    }
   ],
   "source": [
    "rfc =RandomForestClassifier(random_state=42, class_weight='balanced')\n",
    "rfc_param = { \n",
    "    'n_estimators': [500,800,1000],\n",
    "    'max_features': ['auto', 'sqrt', 'log2'],\n",
    "    'max_depth' : [10,15,20,25],\n",
    "    'criterion' :['gini', 'entropy'],\n",
    "    'class_weight': [{0:100,1:1}, {0:10,1:1}, {0:1,1:1}, {0:1,1:10}, {0:1,1:100},'balanced', 'balanced_subsample' ]\n",
    "}\n",
    "\n",
    "crfc_grid = GridSearchCV(rfc, rfc_param,cv=5, return_train_score=True,scoring='f1' )\n",
    "crfc_grid.fit(X_train,y_train)"
   ]
  },
  {
   "cell_type": "code",
   "execution_count": 805,
   "metadata": {
    "ExecuteTime": {
     "end_time": "2020-05-04T03:49:17.923095Z",
     "start_time": "2020-05-04T03:49:17.286424Z"
    }
   },
   "outputs": [
    {
     "name": "stdout",
     "output_type": "stream",
     "text": [
      "Best Mean Cross Validation Score is 0.6148571428571429\n",
      "Best Parameters: {'class_weight': {0: 1, 1: 100}, 'criterion': 'entropy', 'max_depth': 10, 'max_features': 'auto', 'n_estimators': 1000}\n",
      "Train score is 0.9152542372881356\n",
      "Test score is 0.6808510638297872\n",
      "Val score is 0.7142857142857143\n"
     ]
    }
   ],
   "source": [
    "print(f'Best Mean Cross Validation Score is {crfc_grid.best_score_}')\n",
    "print(f'Best Parameters: {crfc_grid.best_params_}')\n",
    "print(f'Train score is {crfc_grid.score(X_train,y_train)}')\n",
    "print(f'Test score is {crfc_grid.score(X_test,y_test)}')\n",
    "print(f'Val score is {crfc_grid.score(X_val,y_val)}')"
   ]
  },
  {
   "cell_type": "markdown",
   "metadata": {},
   "source": [
    "## Cost Sensitive  XGBoost"
   ]
  },
  {
   "cell_type": "code",
   "execution_count": 646,
   "metadata": {
    "ExecuteTime": {
     "end_time": "2020-05-03T19:39:50.742561Z",
     "start_time": "2020-05-03T19:06:10.662213Z"
    }
   },
   "outputs": [
    {
     "data": {
      "text/plain": [
       "GridSearchCV(cv=5, error_score=nan,\n",
       "             estimator=XGBClassifier(base_score=None, booster=None,\n",
       "                                     colsample_bylevel=None,\n",
       "                                     colsample_bynode=None,\n",
       "                                     colsample_bytree=None, gamma=None,\n",
       "                                     gpu_id=None, importance_type='gain',\n",
       "                                     interaction_constraints=None,\n",
       "                                     learning_rate=None, max_delta_step=None,\n",
       "                                     max_depth=None, min_child_weight=None,\n",
       "                                     missing=nan, monotone_constraints=None,\n",
       "                                     n_estim...\n",
       "                                     subsample=None, tree_method=None,\n",
       "                                     validate_parameters=False,\n",
       "                                     verbosity=None),\n",
       "             iid='deprecated', n_jobs=2,\n",
       "             param_grid={'learning_rate': [0.5, 0.6, 0.8],\n",
       "                         'max_depth': [6, 7, 8, 10], 'min_child_weight': [1, 3],\n",
       "                         'n_estimators': [100, 120, 150],\n",
       "                         'scale_pos_weight': [1, 10, 25, 50, 75, 99, 100,\n",
       "                                              1000]},\n",
       "             pre_dispatch='2*n_jobs', refit=True, return_train_score=False,\n",
       "             scoring='f1', verbose=0)"
      ]
     },
     "execution_count": 646,
     "metadata": {},
     "output_type": "execute_result"
    }
   ],
   "source": [
    "xgboost = XGBClassifier()\n",
    "param_grid = {\n",
    "    \n",
    "    'scale_pos_weight': [1, 10, 25, 50, 75, 99, 100, 1000],\n",
    "    'max_depth' : [6,7,8,10],\n",
    "    'n_estimators' : [100,120,150],\n",
    "    'learning_rate' : [0.5,0.6,0.8],\n",
    "    'min_child_weight' : [1,3],\n",
    "}\n",
    "\n",
    "#apply grid search\n",
    "grid_cxgboost= GridSearchCV(xgboost, param_grid, cv=5, n_jobs=2, scoring='f1')\n",
    "grid_cxgboost.fit(X_train, y_train)\n"
   ]
  },
  {
   "cell_type": "code",
   "execution_count": 806,
   "metadata": {
    "ExecuteTime": {
     "end_time": "2020-05-04T03:49:27.172128Z",
     "start_time": "2020-05-04T03:49:27.103313Z"
    }
   },
   "outputs": [
    {
     "name": "stdout",
     "output_type": "stream",
     "text": [
      "Best Mean Cross Validation Score is 0.7854868578255674\n",
      "Best Parameters: {'learning_rate': 0.5, 'max_depth': 10, 'min_child_weight': 1, 'n_estimators': 100, 'scale_pos_weight': 50}\n",
      "Train score is 1.0\n",
      "Test score is 0.7755102040816326\n",
      "Val score is 0.7692307692307693\n"
     ]
    }
   ],
   "source": [
    "print(f'Best Mean Cross Validation Score is {grid_cxgboost.best_score_}')\n",
    "print(f'Best Parameters: {grid_cxgboost.best_params_}')\n",
    "print(f'Train score is {grid_cxgboost.score(X_train,y_train)}')\n",
    "print(f'Test score is {grid_cxgboost.score(X_test,y_test)}')\n",
    "print(f'Val score is {grid_cxgboost.score(X_val,y_val)}')"
   ]
  },
  {
   "cell_type": "code",
   "execution_count": null,
   "metadata": {},
   "outputs": [],
   "source": []
  },
  {
   "cell_type": "markdown",
   "metadata": {},
   "source": [
    "## Extra Tree"
   ]
  },
  {
   "cell_type": "code",
   "execution_count": 706,
   "metadata": {
    "ExecuteTime": {
     "end_time": "2020-05-03T22:16:35.084781Z",
     "start_time": "2020-05-03T22:16:26.666127Z"
    }
   },
   "outputs": [
    {
     "name": "stdout",
     "output_type": "stream",
     "text": [
      "Mean f score: %.3f 0.3995286195286194\n"
     ]
    }
   ],
   "source": [
    "# define model\n",
    "model = ExtraTreesClassifier( class_weight='balanced')\n",
    "# define evaluation procedure\n",
    "cv = RepeatedStratifiedKFold(n_splits=10, n_repeats=3, random_state=1)\n",
    "# evaluate model\n",
    "scores = cross_val_score(model, X_train, y_train, scoring='f1', cv=cv, n_jobs=-1)\n",
    "# summarize performance\n",
    "print('Mean f score: %.3f' ,scores.mean())"
   ]
  },
  {
   "cell_type": "code",
   "execution_count": null,
   "metadata": {},
   "outputs": [],
   "source": []
  },
  {
   "cell_type": "code",
   "execution_count": 649,
   "metadata": {
    "ExecuteTime": {
     "end_time": "2020-05-03T19:57:51.881941Z",
     "start_time": "2020-05-03T19:39:58.659899Z"
    }
   },
   "outputs": [
    {
     "data": {
      "text/plain": [
       "GridSearchCV(cv=5, error_score=nan,\n",
       "             estimator=ExtraTreesClassifier(bootstrap=False, ccp_alpha=0.0,\n",
       "                                            class_weight=None, criterion='gini',\n",
       "                                            max_depth=None, max_features='auto',\n",
       "                                            max_leaf_nodes=None,\n",
       "                                            max_samples=None,\n",
       "                                            min_impurity_decrease=0.0,\n",
       "                                            min_impurity_split=None,\n",
       "                                            min_samples_leaf=1,\n",
       "                                            min_samples_split=2,\n",
       "                                            min_weight_fraction_leaf=0.0,\n",
       "                                            n_estimators=100, n_jobs=None,\n",
       "                                            o...42,\n",
       "                                            verbose=0, warm_start=False),\n",
       "             iid='deprecated', n_jobs=None,\n",
       "             param_grid={'class_weight': [{0: 100, 1: 1}, {0: 10, 1: 1},\n",
       "                                          {0: 1, 1: 1}, {0: 1, 1: 10},\n",
       "                                          {0: 1, 1: 100}, 'balanced'],\n",
       "                         'criterion': ['gini'], 'max_depth': [20, 25, 30],\n",
       "                         'max_features': ['auto', 'sqrt', 'log2'],\n",
       "                         'n_estimators': [300, 500, 800]},\n",
       "             pre_dispatch='2*n_jobs', refit=True, return_train_score=True,\n",
       "             scoring='f1', verbose=0)"
      ]
     },
     "execution_count": 649,
     "metadata": {},
     "output_type": "execute_result"
    }
   ],
   "source": [
    "etc= ExtraTreesClassifier(random_state=42)\n",
    "etc_param = { \n",
    "    'n_estimators': [300,500,800],\n",
    "    'max_features': ['auto', 'sqrt', 'log2'],\n",
    "    'max_depth' : [20,25,30],\n",
    "    'criterion' :['gini'],\n",
    "    'class_weight': [{0:100,1:1}, {0:10,1:1}, {0:1,1:1}, {0:1,1:10}, {0:1,1:100},'balanced']}\n",
    "\n",
    "cetc_grid = GridSearchCV(etc, etc_param,cv=5, return_train_score=True,scoring='f1' )\n",
    "cetc_grid.fit(X_train,y_train)"
   ]
  },
  {
   "cell_type": "code",
   "execution_count": 807,
   "metadata": {
    "ExecuteTime": {
     "end_time": "2020-05-04T03:49:38.409436Z",
     "start_time": "2020-05-04T03:49:38.094262Z"
    }
   },
   "outputs": [
    {
     "name": "stdout",
     "output_type": "stream",
     "text": [
      "Best Mean Cross Validation Score is 0.4647492858019174\n",
      "Best Parameters: {'class_weight': 'balanced', 'criterion': 'gini', 'max_depth': 20, 'max_features': 'auto', 'n_estimators': 300}\n",
      "Train score is 1.0\n",
      "Test score is 0.5\n",
      "Val score is 0.5306122448979592\n"
     ]
    }
   ],
   "source": [
    "print(f'Best Mean Cross Validation Score is {cetc_grid.best_score_}')\n",
    "print(f'Best Parameters: {cetc_grid.best_params_}')\n",
    "print(f'Train score is {cetc_grid.score(X_train,y_train)}')\n",
    "print(f'Test score is {cetc_grid.score(X_test,y_test)}')\n",
    "print(f'Val score is {cetc_grid.score(X_val,y_val)}')"
   ]
  },
  {
   "cell_type": "code",
   "execution_count": null,
   "metadata": {},
   "outputs": [],
   "source": []
  },
  {
   "cell_type": "markdown",
   "metadata": {},
   "source": [
    "## Bagging\n",
    "This implementation of Bagging is similar to the scikit-learn implementation. It includes an additional step to balance the training set at fit time using a ``RandomUnderSampler`"
   ]
  },
  {
   "cell_type": "code",
   "execution_count": 707,
   "metadata": {
    "ExecuteTime": {
     "end_time": "2020-05-03T22:16:51.275425Z",
     "start_time": "2020-05-03T22:16:49.566991Z"
    }
   },
   "outputs": [
    {
     "name": "stdout",
     "output_type": "stream",
     "text": [
      "Mean F score : %.3f 0.49695693983256206\n"
     ]
    }
   ],
   "source": [
    "\n",
    "from imblearn.ensemble import BalancedBaggingClassifier\n",
    "\n",
    "# define model\n",
    "model = BalancedBaggingClassifier()\n",
    "# define evaluation procedure\n",
    "cv = RepeatedStratifiedKFold(n_splits=10, n_repeats=3, random_state=1)\n",
    "# evaluate model\n",
    "scores = cross_val_score(model, X_train, y_train, scoring='f1', cv=cv, n_jobs=-1)\n",
    "# summarize performance\n",
    "print('Mean F score : %.3f' , scores.mean())"
   ]
  },
  {
   "cell_type": "markdown",
   "metadata": {},
   "source": [
    "## summary for cost"
   ]
  },
  {
   "cell_type": "code",
   "execution_count": 723,
   "metadata": {
    "ExecuteTime": {
     "end_time": "2020-05-04T00:19:00.264189Z",
     "start_time": "2020-05-04T00:19:00.252179Z"
    }
   },
   "outputs": [],
   "source": [
    "classifiers_cost ={\n",
    "                         'grid_clogreg':grid_clogreg ,\n",
    "                         'grid_cdtree':grid_cdtree ,\n",
    "                         'clsvc_grid':clsvc_grid,\n",
    "                         'cksvcRbf_grid':cksvcRbf_grid,\n",
    "                         'cksvcPoly_grid':cksvcPoly_grid,\n",
    "                         'cksvcSigm_grid':cksvcSigm_grid,\n",
    "                         'crfc_grid': crfc_grid,\n",
    "                         'grid_cxgboost': grid_cxgboost,\n",
    "                        'cetc_grid':cetc_grid}"
   ]
  },
  {
   "cell_type": "code",
   "execution_count": 724,
   "metadata": {
    "ExecuteTime": {
     "end_time": "2020-05-04T00:19:00.280103Z",
     "start_time": "2020-05-04T00:19:00.270132Z"
    }
   },
   "outputs": [
    {
     "data": {
      "text/plain": [
       "dict_keys(['grid_clogreg', 'grid_cdtree', 'clsvc_grid', 'cksvcRbf_grid', 'cksvcPoly_grid', 'cksvcSigm_grid', 'crfc_grid', 'grid_cxgboost', 'cetc_grid'])"
      ]
     },
     "execution_count": 724,
     "metadata": {},
     "output_type": "execute_result"
    }
   ],
   "source": [
    "classifiers_cost.keys()"
   ]
  },
  {
   "cell_type": "code",
   "execution_count": 725,
   "metadata": {
    "ExecuteTime": {
     "end_time": "2020-05-04T00:19:00.296063Z",
     "start_time": "2020-05-04T00:19:00.283097Z"
    }
   },
   "outputs": [],
   "source": [
    "results_mean_std = []\n",
    "for  key, value in classifiers_cost.items():\n",
    "    mean = value.cv_results_['mean_test_score'][value.best_index_]\n",
    "    std=value.cv_results_['std_test_score'][value.best_index_]\n",
    "     \n",
    "    results_mean_std.append({\n",
    "        \"model\": key,\n",
    "        \"mean\": mean,\n",
    "        \"std\": std\n",
    "    })"
   ]
  },
  {
   "cell_type": "code",
   "execution_count": 726,
   "metadata": {
    "ExecuteTime": {
     "end_time": "2020-05-04T00:19:00.311020Z",
     "start_time": "2020-05-04T00:19:00.298055Z"
    }
   },
   "outputs": [],
   "source": [
    "accuracy_df = pd.DataFrame(results_mean_std, columns=['model', 'mean', 'std'])\n"
   ]
  },
  {
   "cell_type": "code",
   "execution_count": 727,
   "metadata": {
    "ExecuteTime": {
     "end_time": "2020-05-04T00:19:00.342966Z",
     "start_time": "2020-05-04T00:19:00.314015Z"
    }
   },
   "outputs": [
    {
     "data": {
      "text/html": [
       "<div>\n",
       "<style scoped>\n",
       "    .dataframe tbody tr th:only-of-type {\n",
       "        vertical-align: middle;\n",
       "    }\n",
       "\n",
       "    .dataframe tbody tr th {\n",
       "        vertical-align: top;\n",
       "    }\n",
       "\n",
       "    .dataframe thead th {\n",
       "        text-align: right;\n",
       "    }\n",
       "</style>\n",
       "<table border=\"1\" class=\"dataframe\">\n",
       "  <thead>\n",
       "    <tr style=\"text-align: right;\">\n",
       "      <th></th>\n",
       "      <th>model</th>\n",
       "      <th>mean</th>\n",
       "      <th>std</th>\n",
       "    </tr>\n",
       "  </thead>\n",
       "  <tbody>\n",
       "    <tr>\n",
       "      <th>7</th>\n",
       "      <td>grid_cxgboost</td>\n",
       "      <td>0.785487</td>\n",
       "      <td>0.088132</td>\n",
       "    </tr>\n",
       "    <tr>\n",
       "      <th>6</th>\n",
       "      <td>crfc_grid</td>\n",
       "      <td>0.614857</td>\n",
       "      <td>0.070111</td>\n",
       "    </tr>\n",
       "    <tr>\n",
       "      <th>4</th>\n",
       "      <td>cksvcPoly_grid</td>\n",
       "      <td>0.551037</td>\n",
       "      <td>0.134304</td>\n",
       "    </tr>\n",
       "    <tr>\n",
       "      <th>1</th>\n",
       "      <td>grid_cdtree</td>\n",
       "      <td>0.534061</td>\n",
       "      <td>0.121950</td>\n",
       "    </tr>\n",
       "    <tr>\n",
       "      <th>8</th>\n",
       "      <td>cetc_grid</td>\n",
       "      <td>0.464749</td>\n",
       "      <td>0.137183</td>\n",
       "    </tr>\n",
       "    <tr>\n",
       "      <th>5</th>\n",
       "      <td>cksvcSigm_grid</td>\n",
       "      <td>0.332577</td>\n",
       "      <td>0.032747</td>\n",
       "    </tr>\n",
       "    <tr>\n",
       "      <th>2</th>\n",
       "      <td>clsvc_grid</td>\n",
       "      <td>0.329897</td>\n",
       "      <td>0.025161</td>\n",
       "    </tr>\n",
       "    <tr>\n",
       "      <th>0</th>\n",
       "      <td>grid_clogreg</td>\n",
       "      <td>0.319970</td>\n",
       "      <td>0.036801</td>\n",
       "    </tr>\n",
       "    <tr>\n",
       "      <th>3</th>\n",
       "      <td>cksvcRbf_grid</td>\n",
       "      <td>0.179310</td>\n",
       "      <td>0.029260</td>\n",
       "    </tr>\n",
       "  </tbody>\n",
       "</table>\n",
       "</div>"
      ],
      "text/plain": [
       "            model      mean       std\n",
       "7   grid_cxgboost  0.785487  0.088132\n",
       "6       crfc_grid  0.614857  0.070111\n",
       "4  cksvcPoly_grid  0.551037  0.134304\n",
       "1     grid_cdtree  0.534061  0.121950\n",
       "8       cetc_grid  0.464749  0.137183\n",
       "5  cksvcSigm_grid  0.332577  0.032747\n",
       "2      clsvc_grid  0.329897  0.025161\n",
       "0    grid_clogreg  0.319970  0.036801\n",
       "3   cksvcRbf_grid  0.179310  0.029260"
      ]
     },
     "execution_count": 727,
     "metadata": {},
     "output_type": "execute_result"
    }
   ],
   "source": [
    "# Show the accuracy dataframe\n",
    "\n",
    "accuracy_df.sort_values(by=['mean'], inplace=True,ascending=False)\n",
    "accuracy_df"
   ]
  },
  {
   "cell_type": "code",
   "execution_count": null,
   "metadata": {},
   "outputs": [],
   "source": []
  },
  {
   "cell_type": "markdown",
   "metadata": {},
   "source": [
    "# Data Sampling Algorithms "
   ]
  },
  {
   "cell_type": "code",
   "execution_count": 526,
   "metadata": {
    "ExecuteTime": {
     "end_time": "2020-05-03T07:09:02.402555Z",
     "start_time": "2020-05-03T07:09:00.786548Z"
    }
   },
   "outputs": [
    {
     "name": "stdout",
     "output_type": "stream",
     "text": [
      "Requirement already satisfied: imblearn in c:\\users\\vijay\\anaconda3\\envs\\buan6341_2020\\lib\\site-packages (0.0)\n",
      "Requirement already satisfied: imbalanced-learn in c:\\users\\vijay\\anaconda3\\envs\\buan6341_2020\\lib\\site-packages (from imblearn) (0.6.2)\n",
      "Requirement already satisfied: scipy>=0.17 in c:\\users\\vijay\\anaconda3\\envs\\buan6341_2020\\lib\\site-packages (from imbalanced-learn->imblearn) (1.3.0)\n",
      "Requirement already satisfied: joblib>=0.11 in c:\\users\\vijay\\anaconda3\\envs\\buan6341_2020\\lib\\site-packages (from imbalanced-learn->imblearn) (0.14.1)\n",
      "Requirement already satisfied: scikit-learn>=0.22 in c:\\users\\vijay\\anaconda3\\envs\\buan6341_2020\\lib\\site-packages (from imbalanced-learn->imblearn) (0.22.1)\n",
      "Requirement already satisfied: numpy>=1.11 in c:\\users\\vijay\\anaconda3\\envs\\buan6341_2020\\lib\\site-packages (from imbalanced-learn->imblearn) (1.17.4)\n",
      "Note: you may need to restart the kernel to use updated packages.\n"
     ]
    }
   ],
   "source": [
    "pip install imblearn\n"
   ]
  },
  {
   "cell_type": "code",
   "execution_count": 527,
   "metadata": {
    "ExecuteTime": {
     "end_time": "2020-05-03T07:09:02.418554Z",
     "start_time": "2020-05-03T07:09:02.405557Z"
    }
   },
   "outputs": [],
   "source": [
    "from imblearn.over_sampling import SMOTE\n",
    "from imblearn.pipeline import Pipeline\n",
    "from imblearn.over_sampling import ADASYN"
   ]
  },
  {
   "cell_type": "markdown",
   "metadata": {},
   "source": [
    "## Logistic"
   ]
  },
  {
   "cell_type": "code",
   "execution_count": 711,
   "metadata": {
    "ExecuteTime": {
     "end_time": "2020-05-03T22:26:59.187288Z",
     "start_time": "2020-05-03T22:26:41.656368Z"
    }
   },
   "outputs": [
    {
     "name": "stdout",
     "output_type": "stream",
     "text": [
      "Best parameters: {'ada__n_neighbors': 5, 'lg__C': 3}\n",
      "Best Mean cross-validation score: 0.28\n"
     ]
    }
   ],
   "source": [
    "#logistic regression\n",
    "pipe_ada_lg = Pipeline([('ada',ADASYN()),('lg',LogisticRegression(max_iter=1000))])\n",
    "param_ada_lg = {'ada__n_neighbors': [2,3,4,5,6],\n",
    "              'lg__C': [1,2,3]}\n",
    "\n",
    "logreg_ada_grid = GridSearchCV(pipe_ada_lg, param_ada_lg,cv=5, return_train_score=True,scoring='f1' )\n",
    "\n",
    "logreg_ada_grid.fit(X_train,y_train)\n",
    "\n",
    "\n",
    "print(\"Best parameters: {}\".format(logreg_ada_grid.best_params_))\n",
    "print(\"Best Mean cross-validation score: {:.2f}\".format(logreg_ada_grid.best_score_))"
   ]
  },
  {
   "cell_type": "markdown",
   "metadata": {},
   "source": [
    "## Tree"
   ]
  },
  {
   "cell_type": "code",
   "execution_count": 712,
   "metadata": {
    "ExecuteTime": {
     "end_time": "2020-05-03T22:35:35.538257Z",
     "start_time": "2020-05-03T22:26:59.190282Z"
    }
   },
   "outputs": [
    {
     "name": "stdout",
     "output_type": "stream",
     "text": [
      "Best parameters: {'ada__n_neighbors': 2, 'dtree__max_depth': 7, 'dtree__max_leaf_nodes': 5, 'dtree__min_samples_split': 7, 'dtree__splitter': 'best'}\n",
      "Best Mean cross-validation score: 0.50\n"
     ]
    }
   ],
   "source": [
    "#decisiontreee\n",
    "pipe_ada_dtree = Pipeline([('ada',ADASYN()),('dtree',DecisionTreeClassifier())])\n",
    "param_ada_dtree = {'ada__n_neighbors': [1,2,3,4,5],\n",
    "                  'dtree__max_depth': [3,5,7,9],\n",
    "           'dtree__min_samples_split': range(2,10,1),\n",
    "           \"dtree__max_leaf_nodes\": range(2,6),\n",
    "              \"dtree__splitter\": [\"best\", \"random\"]}\n",
    "\n",
    "dtree_ada_grid= GridSearchCV(pipe_ada_dtree,param_ada_dtree, cv=5, n_jobs=2, scoring='f1')\n",
    "dtree_ada_grid.fit(X_train, y_train)\n",
    "\n",
    "print(\"Best parameters: {}\".format(dtree_ada_grid.best_params_))\n",
    "print(\"Best Mean cross-validation score: {:.2f}\".format(dtree_ada_grid.best_score_))"
   ]
  },
  {
   "cell_type": "markdown",
   "metadata": {},
   "source": [
    "## Knn"
   ]
  },
  {
   "cell_type": "code",
   "execution_count": 713,
   "metadata": {
    "ExecuteTime": {
     "end_time": "2020-05-03T22:36:36.493250Z",
     "start_time": "2020-05-03T22:35:35.542246Z"
    }
   },
   "outputs": [
    {
     "name": "stdout",
     "output_type": "stream",
     "text": [
      "Best parameters: {'ada__n_neighbors': 5, 'knn__n_neighbors': 2, 'knn__weights': 'uniform'}\n",
      "Best Mean cross-validation score: 0.56\n"
     ]
    }
   ],
   "source": [
    "#knn\n",
    "pipe_ada_knn = Pipeline([('ada',ADASYN()),('knn',KNeighborsClassifier())])\n",
    "param_ada_knn = {'ada__n_neighbors': [1,2,3,4,5], 'knn__n_neighbors': [2,3,4,5], 'knn__weights': ['uniform','distance']}\n",
    "\n",
    "knn_ada_grid= GridSearchCV(pipe_ada_knn,param_ada_knn, cv=5, n_jobs=2, scoring='f1')\n",
    "knn_ada_grid.fit(X_train, y_train)\n",
    "\n",
    "print(\"Best parameters: {}\".format(knn_ada_grid.best_params_))\n",
    "print(\"Best Mean cross-validation score: {:.2f}\".format(knn_ada_grid.best_score_))"
   ]
  },
  {
   "cell_type": "markdown",
   "metadata": {},
   "source": [
    "## SVC"
   ]
  },
  {
   "cell_type": "markdown",
   "metadata": {},
   "source": [
    "### SVC Linear"
   ]
  },
  {
   "cell_type": "code",
   "execution_count": 714,
   "metadata": {
    "ExecuteTime": {
     "end_time": "2020-05-03T22:50:24.903573Z",
     "start_time": "2020-05-03T22:36:36.496244Z"
    }
   },
   "outputs": [
    {
     "data": {
      "text/plain": [
       "GridSearchCV(cv=5, error_score=nan,\n",
       "             estimator=Pipeline(memory=None,\n",
       "                                steps=[('ada',\n",
       "                                        ADASYN(n_jobs=None, n_neighbors=5,\n",
       "                                               random_state=None,\n",
       "                                               sampling_strategy='auto')),\n",
       "                                       ('lsvc',\n",
       "                                        SVC(C=1.0, break_ties=False,\n",
       "                                            cache_size=200, class_weight=None,\n",
       "                                            coef0=0.0,\n",
       "                                            decision_function_shape='ovr',\n",
       "                                            degree=3, gamma='scale',\n",
       "                                            kernel='linear', max_iter=-1,\n",
       "                                            probability=True, random_state=None,\n",
       "                                            shrinking=True, tol=0.001,\n",
       "                                            verbose=False))],\n",
       "                                verbose=False),\n",
       "             iid='deprecated', n_jobs=None,\n",
       "             param_grid={'ada__n_neighbors': [1, 2, 3, 4, 5],\n",
       "                         'lsvc__C': [0.8, 1, 2, 3, 4]},\n",
       "             pre_dispatch='2*n_jobs', refit=True, return_train_score=True,\n",
       "             scoring='f1', verbose=0)"
      ]
     },
     "execution_count": 714,
     "metadata": {},
     "output_type": "execute_result"
    }
   ],
   "source": [
    "pipe_ada_lsvc = Pipeline([('ada',ADASYN()),('lsvc',SVC(kernel='linear',probability=True))])\n",
    "param_ada_lsvc= {'ada__n_neighbors': [1,2,3,4,5],'lsvc__C': [0.8,1,2,3,4]}\n",
    "lsvc_ada_grid = GridSearchCV(pipe_ada_lsvc, param_ada_lsvc,cv=5, return_train_score=True,scoring='f1' )\n",
    "lsvc_ada_grid.fit(X_train,y_train)"
   ]
  },
  {
   "cell_type": "code",
   "execution_count": 715,
   "metadata": {
    "ExecuteTime": {
     "end_time": "2020-05-03T22:50:24.919527Z",
     "start_time": "2020-05-03T22:50:24.905565Z"
    }
   },
   "outputs": [
    {
     "name": "stdout",
     "output_type": "stream",
     "text": [
      "Best parameters: {'ada__n_neighbors': 5, 'lsvc__C': 0.8}\n",
      "Best Mean cross-validation score: 0.28\n"
     ]
    }
   ],
   "source": [
    "print(\"Best parameters: {}\".format(lsvc_ada_grid.best_params_))\n",
    "print(\"Best Mean cross-validation score: {:.2f}\".format(lsvc_ada_grid.best_score_))"
   ]
  },
  {
   "cell_type": "markdown",
   "metadata": {},
   "source": [
    "### Kernal RBF"
   ]
  },
  {
   "cell_type": "code",
   "execution_count": 716,
   "metadata": {
    "ExecuteTime": {
     "end_time": "2020-05-03T22:50:24.951441Z",
     "start_time": "2020-05-03T22:50:24.926515Z"
    }
   },
   "outputs": [],
   "source": [
    "pipe_ada_ksvcRbf = Pipeline([('ada',ADASYN()),('ksvc',SVC(probability=True))])\n",
    "ksvcRbf_ada_param = {'ksvc__kernel': ['rbf'],\n",
    "               'ksvc__C': [ 0.01,.02,.03],\n",
    "               'ksvc__gamma': [0.01,.02,.03],\n",
    "                 'ada__n_neighbors': [1,2,3,4,5]}\n",
    "                \n",
    "\n",
    "ksvcRbf_ada_grid = GridSearchCV(pipe_ada_ksvcRbf, ksvcRbf_ada_param ,cv=3, return_train_score=True, scoring='f1')"
   ]
  },
  {
   "cell_type": "code",
   "execution_count": 717,
   "metadata": {
    "ExecuteTime": {
     "end_time": "2020-05-03T23:07:57.693246Z",
     "start_time": "2020-05-03T22:50:24.955433Z"
    }
   },
   "outputs": [
    {
     "data": {
      "text/plain": [
       "GridSearchCV(cv=3, error_score=nan,\n",
       "             estimator=Pipeline(memory=None,\n",
       "                                steps=[('ada',\n",
       "                                        ADASYN(n_jobs=None, n_neighbors=5,\n",
       "                                               random_state=None,\n",
       "                                               sampling_strategy='auto')),\n",
       "                                       ('ksvc',\n",
       "                                        SVC(C=1.0, break_ties=False,\n",
       "                                            cache_size=200, class_weight=None,\n",
       "                                            coef0=0.0,\n",
       "                                            decision_function_shape='ovr',\n",
       "                                            degree=3, gamma='scale',\n",
       "                                            kernel='rbf', max_iter=-1,\n",
       "                                            probability=True, random_state=None,\n",
       "                                            shrinking=True, tol=0.001,\n",
       "                                            verbose=False))],\n",
       "                                verbose=False),\n",
       "             iid='deprecated', n_jobs=None,\n",
       "             param_grid={'ada__n_neighbors': [1, 2, 3, 4, 5],\n",
       "                         'ksvc__C': [0.01, 0.02, 0.03],\n",
       "                         'ksvc__gamma': [0.01, 0.02, 0.03],\n",
       "                         'ksvc__kernel': ['rbf']},\n",
       "             pre_dispatch='2*n_jobs', refit=True, return_train_score=True,\n",
       "             scoring='f1', verbose=0)"
      ]
     },
     "execution_count": 717,
     "metadata": {},
     "output_type": "execute_result"
    }
   ],
   "source": [
    "ksvcRbf_ada_grid.fit(X_train,y_train)"
   ]
  },
  {
   "cell_type": "code",
   "execution_count": 808,
   "metadata": {
    "ExecuteTime": {
     "end_time": "2020-05-04T03:50:12.844444Z",
     "start_time": "2020-05-04T03:50:10.765409Z"
    }
   },
   "outputs": [
    {
     "name": "stdout",
     "output_type": "stream",
     "text": [
      "Best Mean Cross Validation Score is 0.2905208150872891\n",
      "Best Parameters: {'ada__n_neighbors': 1, 'ksvc__C': 0.03, 'ksvc__gamma': 0.03, 'ksvc__kernel': 'rbf'}\n",
      "Train score is 0.2925851703406813\n",
      "Test score is 0.25\n",
      "Val score is 0.3699421965317919\n"
     ]
    }
   ],
   "source": [
    "print(f'Best Mean Cross Validation Score is {ksvcRbf_ada_grid.best_score_}')\n",
    "print(f'Best Parameters: {ksvcRbf_ada_grid.best_params_}')\n",
    "print(f'Train score is {ksvcRbf_ada_grid.score(X_train,y_train)}')\n",
    "print(f'Test score is {ksvcRbf_ada_grid.score(X_test,y_test)}')\n",
    "print(f'Val score is {ksvcRbf_ada_grid.score(X_val,y_val)}')"
   ]
  },
  {
   "cell_type": "markdown",
   "metadata": {},
   "source": [
    "### Kernal Sigmoid Best Model\n"
   ]
  },
  {
   "cell_type": "code",
   "execution_count": 816,
   "metadata": {
    "ExecuteTime": {
     "end_time": "2020-05-04T04:29:36.976057Z",
     "start_time": "2020-05-04T03:56:41.833980Z"
    }
   },
   "outputs": [
    {
     "data": {
      "text/plain": [
       "GridSearchCV(cv=5, error_score=nan,\n",
       "             estimator=Pipeline(memory=None,\n",
       "                                steps=[('ada',\n",
       "                                        ADASYN(n_jobs=None, n_neighbors=5,\n",
       "                                               random_state=None,\n",
       "                                               sampling_strategy='auto')),\n",
       "                                       ('ksvc',\n",
       "                                        SVC(C=1.0, break_ties=False,\n",
       "                                            cache_size=200, class_weight=None,\n",
       "                                            coef0=0.0,\n",
       "                                            decision_function_shape='ovr',\n",
       "                                            degree=3, gamma='scale',\n",
       "                                            kernel='rbf', max_iter=-1,\n",
       "                                            probability=True, random_state=None,\n",
       "                                            shrinking=True, tol=0.001,\n",
       "                                            verbose=False))],\n",
       "                                verbose=False),\n",
       "             iid='deprecated', n_jobs=None,\n",
       "             param_grid={'ada__n_neighbors': [1, 2, 3, 4, 5],\n",
       "                         'ksvc__C': [100, 150, 200, 500],\n",
       "                         'ksvc__gamma': [0.001, 0.002, 0.003],\n",
       "                         'ksvc__kernel': ['sigmoid']},\n",
       "             pre_dispatch='2*n_jobs', refit=True, return_train_score=True,\n",
       "             scoring='f1', verbose=0)"
      ]
     },
     "execution_count": 816,
     "metadata": {},
     "output_type": "execute_result"
    }
   ],
   "source": [
    "pipe_ada_ksvcSigm = Pipeline([('ada',ADASYN()),('ksvc',SVC(probability=True))])\n",
    "ksvcSigm_ada_param = {'ksvc__kernel': ['sigmoid'],\n",
    "               'ksvc__C': [ 100,150,200,500],\n",
    "               'ksvc__gamma': [0.001,.002,.003],\n",
    "              'ada__n_neighbors': [1,2,3,4,5]}\n",
    "\n",
    "ksvcSigm_ada_grid = GridSearchCV(pipe_ada_ksvcSigm, ksvcSigm_ada_param,cv=5, return_train_score=True, scoring='f1')\n",
    "ksvcSigm_ada_grid.fit(X_train,y_train)"
   ]
  },
  {
   "cell_type": "code",
   "execution_count": 817,
   "metadata": {
    "ExecuteTime": {
     "end_time": "2020-05-04T04:29:38.202777Z",
     "start_time": "2020-05-04T04:29:36.979049Z"
    }
   },
   "outputs": [
    {
     "name": "stdout",
     "output_type": "stream",
     "text": [
      "Best Mean Cross Validation Score is 0.2793463945456138\n",
      "Best Parameters: {'ada__n_neighbors': 3, 'ksvc__C': 200, 'ksvc__gamma': 0.001, 'ksvc__kernel': 'sigmoid'}\n",
      "Train score is 0.2753346080305927\n",
      "Test score is 0.245398773006135\n",
      "Val score is 0.3212435233160622\n"
     ]
    }
   ],
   "source": [
    "print(f'Best Mean Cross Validation Score is {ksvcSigm_ada_grid.best_score_}')\n",
    "print(f'Best Parameters: {ksvcSigm_ada_grid.best_params_}')\n",
    "print(f'Train score is {ksvcSigm_ada_grid.score(X_train,y_train)}')\n",
    "print(f'Test score is {ksvcSigm_ada_grid.score(X_test,y_test)}')\n",
    "print(f'Val score is {ksvcSigm_ada_grid.score(X_val,y_val)}')"
   ]
  },
  {
   "cell_type": "markdown",
   "metadata": {},
   "source": [
    "## XgBoost "
   ]
  },
  {
   "cell_type": "code",
   "execution_count": null,
   "metadata": {},
   "outputs": [],
   "source": []
  },
  {
   "cell_type": "code",
   "execution_count": 719,
   "metadata": {
    "ExecuteTime": {
     "end_time": "2020-05-04T00:17:05.472382Z",
     "start_time": "2020-05-03T23:07:59.582576Z"
    }
   },
   "outputs": [
    {
     "data": {
      "text/plain": [
       "GridSearchCV(cv=5, error_score=nan,\n",
       "             estimator=Pipeline(memory=None,\n",
       "                                steps=[('ada',\n",
       "                                        ADASYN(n_jobs=None, n_neighbors=5,\n",
       "                                               random_state=None,\n",
       "                                               sampling_strategy='auto')),\n",
       "                                       ('xgbc',\n",
       "                                        XGBClassifier(base_score=None,\n",
       "                                                      booster=None,\n",
       "                                                      colsample_bylevel=None,\n",
       "                                                      colsample_bynode=None,\n",
       "                                                      colsample_bytree=None,\n",
       "                                                      early_stopping_rounds=2,\n",
       "                                                      gamma=None, gpu_id=None,\n",
       "                                                      importance_type='gain',\n",
       "                                                      inter...\n",
       "                                                      validate_parameters=False,\n",
       "                                                      verbosity=None))],\n",
       "                                verbose=False),\n",
       "             iid='deprecated', n_jobs=None,\n",
       "             param_grid={'ada__n_neighbors': [1, 2, 3, 4, 5],\n",
       "                         'xgbc__learning_rate': [0.6, 0.8, 1],\n",
       "                         'xgbc__max_depth': [2, 4, 6],\n",
       "                         'xgbc__min_child_weight': [1, 3, 5],\n",
       "                         'xgbc__n_estimators': [50, 100],\n",
       "                         'xgbc__subsample': [0.7, 0.8, 0.9]},\n",
       "             pre_dispatch='2*n_jobs', refit=True, return_train_score=True,\n",
       "             scoring='f1', verbose=0)"
      ]
     },
     "execution_count": 719,
     "metadata": {},
     "output_type": "execute_result"
    }
   ],
   "source": [
    "from  xgboost import XGBClassifier\n",
    "pipe_ada_xgbc = Pipeline([('ada',ADASYN()),\n",
    "                         ('xgbc', XGBClassifier(random_state=42,early_stopping_rounds=2,objective= 'binary:logistic'))])\n",
    "xgbc_ada_param = {\n",
    "              'xgbc__max_depth' : [2,4,6],\n",
    "              'xgbc__n_estimators' : [50,100],\n",
    "              'xgbc__learning_rate' : [0.6,0.8,1],\n",
    "               'xgbc__min_child_weight' : [1,3,5],\n",
    "                'xgbc__subsample':[0.7,0.8,0.9],\n",
    "                 'ada__n_neighbors': [1,2,3,4,5]\n",
    "             }\n",
    "xgbc_ada_grid = GridSearchCV(pipe_ada_xgbc, xgbc_ada_param,cv=5, return_train_score=True,scoring='f1')\n",
    "xgbc_ada_grid.fit(X_train,y_train)"
   ]
  },
  {
   "cell_type": "code",
   "execution_count": 810,
   "metadata": {
    "ExecuteTime": {
     "end_time": "2020-05-04T03:50:24.190177Z",
     "start_time": "2020-05-04T03:50:24.114385Z"
    }
   },
   "outputs": [
    {
     "name": "stdout",
     "output_type": "stream",
     "text": [
      "Best Mean Cross Validation Score is 0.8057486644413295\n",
      "Best Parameters: {'ada__n_neighbors': 3, 'xgbc__learning_rate': 0.6, 'xgbc__max_depth': 4, 'xgbc__min_child_weight': 1, 'xgbc__n_estimators': 100, 'xgbc__subsample': 0.8}\n",
      "Train score is 1.0\n",
      "Test score is 0.7234042553191489\n",
      "Val score is 0.775\n"
     ]
    }
   ],
   "source": [
    "print(f'Best Mean Cross Validation Score is {xgbc_ada_grid.best_score_}')\n",
    "print(f'Best Parameters: {xgbc_ada_grid.best_params_}')\n",
    "print(f'Train score is {xgbc_ada_grid.score(X_train,y_train)}')\n",
    "print(f'Test score is {xgbc_ada_grid.score(X_test,y_test)}')\n",
    "print(f'Val score is {xgbc_ada_grid.score(X_val,y_val)}')"
   ]
  },
  {
   "cell_type": "markdown",
   "metadata": {},
   "source": [
    "## Random forest"
   ]
  },
  {
   "cell_type": "code",
   "execution_count": 540,
   "metadata": {
    "ExecuteTime": {
     "end_time": "2020-05-03T09:20:06.852962Z",
     "start_time": "2020-05-03T09:20:06.839997Z"
    }
   },
   "outputs": [],
   "source": [
    "from sklearn.ensemble import RandomForestClassifier"
   ]
  },
  {
   "cell_type": "code",
   "execution_count": 750,
   "metadata": {
    "ExecuteTime": {
     "end_time": "2020-05-04T02:40:22.368023Z",
     "start_time": "2020-05-04T02:31:35.853541Z"
    }
   },
   "outputs": [
    {
     "data": {
      "text/plain": [
       "GridSearchCV(cv=5, error_score=nan,\n",
       "             estimator=Pipeline(memory=None,\n",
       "                                steps=[('ada',\n",
       "                                        ADASYN(n_jobs=None, n_neighbors=5,\n",
       "                                               random_state=None,\n",
       "                                               sampling_strategy='auto')),\n",
       "                                       ('rfc',\n",
       "                                        RandomForestClassifier(bootstrap=True,\n",
       "                                                               ccp_alpha=0.0,\n",
       "                                                               class_weight=None,\n",
       "                                                               criterion='gini',\n",
       "                                                               max_depth=None,\n",
       "                                                               max_features='auto',\n",
       "                                                               max_leaf_nodes=None,\n",
       "                                                               max_samples=None,\n",
       "                                                               min_impurity_decrease=0.0,\n",
       "                                                               m...\n",
       "                                                               oob_score=False,\n",
       "                                                               random_state=42,\n",
       "                                                               verbose=0,\n",
       "                                                               warm_start=False))],\n",
       "                                verbose=False),\n",
       "             iid='deprecated', n_jobs=None,\n",
       "             param_grid={'ada__n_neighbors': [1, 2, 3, 4, 5],\n",
       "                         'rfc__criterion': ['gini', 'entropy'],\n",
       "                         'rfc__max_depth': [5, 6, 7],\n",
       "                         'rfc__max_features': ['auto'],\n",
       "                         'rfc__n_estimators': [200, 500]},\n",
       "             pre_dispatch='2*n_jobs', refit=True, return_train_score=True,\n",
       "             scoring='f1', verbose=0)"
      ]
     },
     "execution_count": 750,
     "metadata": {},
     "output_type": "execute_result"
    }
   ],
   "source": [
    "pipe_ada_rfc = Pipeline([('ada',ADASYN()),('rfc',RandomForestClassifier(random_state=42))])\n",
    "rfc_ada_param = { 'rfc__n_estimators':[200, 500],\n",
    "    'rfc__max_features': ['auto'],\n",
    "    'rfc__max_depth' : [5,6,7],\n",
    "    'rfc__criterion' :['gini', 'entropy'],\n",
    "    'ada__n_neighbors': [1,2,3,4,5],\n",
    "}\n",
    "\n",
    "rfc_ada_grid1 = GridSearchCV(pipe_ada_rfc, rfc_ada_param,cv=5, return_train_score=True,scoring='f1' )\n",
    "rfc_ada_grid1.fit(X_train,y_train)"
   ]
  },
  {
   "cell_type": "code",
   "execution_count": 811,
   "metadata": {
    "ExecuteTime": {
     "end_time": "2020-05-04T03:50:30.614589Z",
     "start_time": "2020-05-04T03:50:30.244626Z"
    }
   },
   "outputs": [
    {
     "name": "stdout",
     "output_type": "stream",
     "text": [
      "Best Mean Cross Validation Score is 0.6209562488632255\n",
      "Best Parameters: {'ada__n_neighbors': 1, 'rfc__criterion': 'entropy', 'rfc__max_depth': 7, 'rfc__max_features': 'auto', 'rfc__n_estimators': 500}\n",
      "Train score is 0.8186528497409328\n",
      "Test score is 0.5666666666666667\n",
      "Val score is 0.6585365853658536\n"
     ]
    }
   ],
   "source": [
    "print(f'Best Mean Cross Validation Score is {rfc_ada_grid1.best_score_}')\n",
    "print(f'Best Parameters: {rfc_ada_grid1.best_params_}')\n",
    "print(f'Train score is {rfc_ada_grid1.score(X_train,y_train)}')\n",
    "print(f'Test score is {rfc_ada_grid1.score(X_test,y_test)}')\n",
    "print(f'Val score is {rfc_ada_grid1.score(X_val,y_val)}')"
   ]
  },
  {
   "cell_type": "code",
   "execution_count": 741,
   "metadata": {
    "ExecuteTime": {
     "end_time": "2020-05-04T02:26:30.243844Z",
     "start_time": "2020-05-04T01:30:55.922544Z"
    }
   },
   "outputs": [
    {
     "data": {
      "text/plain": [
       "GridSearchCV(cv=5, error_score=nan,\n",
       "             estimator=Pipeline(memory=None,\n",
       "                                steps=[('ada',\n",
       "                                        ADASYN(n_jobs=None, n_neighbors=5,\n",
       "                                               random_state=None,\n",
       "                                               sampling_strategy='auto')),\n",
       "                                       ('rfc',\n",
       "                                        RandomForestClassifier(bootstrap=True,\n",
       "                                                               ccp_alpha=0.0,\n",
       "                                                               class_weight=None,\n",
       "                                                               criterion='gini',\n",
       "                                                               max_depth=None,\n",
       "                                                               max_features='auto',\n",
       "                                                               max_leaf_nodes=None,\n",
       "                                                               max_samples=None,\n",
       "                                                               min_impurity_decrease=0.0,\n",
       "                                                               m...\n",
       "                                                               random_state=42,\n",
       "                                                               verbose=0,\n",
       "                                                               warm_start=False))],\n",
       "                                verbose=False),\n",
       "             iid='deprecated', n_jobs=None,\n",
       "             param_grid={'ada__n_neighbors': [1, 2, 3, 4, 5],\n",
       "                         'rfc__criterion': ['gini', 'entropy'],\n",
       "                         'rfc__max_depth': [7, 8, 15, 20, 25],\n",
       "                         'rfc__max_features': ['auto'],\n",
       "                         'rfc__n_estimators': [400, 500, 600, 1000]},\n",
       "             pre_dispatch='2*n_jobs', refit=True, return_train_score=True,\n",
       "             scoring='f1', verbose=0)"
      ]
     },
     "execution_count": 741,
     "metadata": {},
     "output_type": "execute_result"
    }
   ],
   "source": [
    "pipe_ada_rfc = Pipeline([('ada',ADASYN()),('rfc',RandomForestClassifier(random_state=42))])\n",
    "rfc_ada_param = { 'rfc__n_estimators':[400, 500,600,1000],\n",
    "    'rfc__max_features': ['auto'],\n",
    "    'rfc__max_depth' : [7,8,15,20,25],\n",
    "    'rfc__criterion' :['gini', 'entropy'],\n",
    "    'ada__n_neighbors': [1,2,3,4,5],\n",
    "}\n",
    "\n",
    "rfc_ada_grid = GridSearchCV(pipe_ada_rfc, rfc_ada_param,cv=5, return_train_score=True,scoring='f1' )\n",
    "rfc_ada_grid.fit(X_train,y_train)"
   ]
  },
  {
   "cell_type": "code",
   "execution_count": 812,
   "metadata": {
    "ExecuteTime": {
     "end_time": "2020-05-04T03:50:36.771464Z",
     "start_time": "2020-05-04T03:50:36.308363Z"
    }
   },
   "outputs": [
    {
     "name": "stdout",
     "output_type": "stream",
     "text": [
      "Best Mean Cross Validation Score is 0.7193845370315959\n",
      "Best Parameters: {'ada__n_neighbors': 5, 'rfc__criterion': 'entropy', 'rfc__max_depth': 15, 'rfc__max_features': 'auto', 'rfc__n_estimators': 600}\n",
      "Train score is 1.0\n",
      "Test score is 0.75\n",
      "Val score is 0.736842105263158\n"
     ]
    }
   ],
   "source": [
    "print(f'Best Mean Cross Validation Score is {rfc_ada_grid.best_score_}')\n",
    "print(f'Best Parameters: {rfc_ada_grid.best_params_}')\n",
    "print(f'Train score is {rfc_ada_grid.score(X_train,y_train)}')\n",
    "print(f'Test score is {rfc_ada_grid.score(X_test,y_test)}')\n",
    "print(f'Val score is {rfc_ada_grid.score(X_val,y_val)}')"
   ]
  },
  {
   "cell_type": "markdown",
   "metadata": {},
   "source": [
    "## easy ensemble classifier"
   ]
  },
  {
   "cell_type": "code",
   "execution_count": 721,
   "metadata": {
    "ExecuteTime": {
     "end_time": "2020-05-04T00:18:58.833826Z",
     "start_time": "2020-05-04T00:17:05.554166Z"
    }
   },
   "outputs": [
    {
     "data": {
      "text/plain": [
       "GridSearchCV(cv=5, error_score=nan,\n",
       "             estimator=Pipeline(memory=None,\n",
       "                                steps=[('ada',\n",
       "                                        ADASYN(n_jobs=None, n_neighbors=5,\n",
       "                                               random_state=None,\n",
       "                                               sampling_strategy='auto')),\n",
       "                                       ('ee',\n",
       "                                        EasyEnsembleClassifier(base_estimator=None,\n",
       "                                                               n_estimators=10,\n",
       "                                                               n_jobs=None,\n",
       "                                                               random_state=None,\n",
       "                                                               replacement=False,\n",
       "                                                               sampling_strategy='auto',\n",
       "                                                               verbose=0,\n",
       "                                                               warm_start=False))],\n",
       "                                verbose=False),\n",
       "             iid='deprecated', n_jobs=2,\n",
       "             param_grid={'ada__n_neighbors': [2, 3, 4, 5]},\n",
       "             pre_dispatch='2*n_jobs', refit=True, return_train_score=False,\n",
       "             scoring='f1', verbose=0)"
      ]
     },
     "execution_count": 721,
     "metadata": {},
     "output_type": "execute_result"
    }
   ],
   "source": [
    "#easy ensemble classifier\n",
    "from imblearn.ensemble import EasyEnsembleClassifier\n",
    "pipe_ada_ee = Pipeline([('ada',ADASYN()),('ee',EasyEnsembleClassifier())])\n",
    "param_ada_ee = {'ada__n_neighbors': [2,3,4,5]}\n",
    "\n",
    "ee_ada_grid= GridSearchCV(pipe_ada_ee,param_ada_ee, cv=5, n_jobs=2, scoring='f1')\n",
    "ee_ada_grid.fit(X_train, y_train)"
   ]
  },
  {
   "cell_type": "code",
   "execution_count": 813,
   "metadata": {
    "ExecuteTime": {
     "end_time": "2020-05-04T03:50:44.113787Z",
     "start_time": "2020-05-04T03:50:42.179066Z"
    }
   },
   "outputs": [
    {
     "name": "stdout",
     "output_type": "stream",
     "text": [
      "Best Mean Cross Validation Score is 0.5743567002103588\n",
      "Best Parameters: {'ada__n_neighbors': 3}\n",
      "Train score is 0.7149321266968325\n",
      "Test score is 0.4166666666666667\n",
      "Val score is 0.62\n"
     ]
    }
   ],
   "source": [
    "print(f'Best Mean Cross Validation Score is {ee_ada_grid.best_score_}')\n",
    "print(f'Best Parameters: {ee_ada_grid.best_params_}')\n",
    "print(f'Train score is {ee_ada_grid.score(X_train,y_train)}')\n",
    "print(f'Test score is {ee_ada_grid.score(X_test,y_test)}')\n",
    "print(f'Val score is {ee_ada_grid.score(X_val,y_val)}')"
   ]
  },
  {
   "cell_type": "markdown",
   "metadata": {},
   "source": [
    "## summary for data sampling"
   ]
  },
  {
   "cell_type": "code",
   "execution_count": 819,
   "metadata": {
    "ExecuteTime": {
     "end_time": "2020-05-04T04:45:49.785356Z",
     "start_time": "2020-05-04T04:45:49.770398Z"
    }
   },
   "outputs": [],
   "source": [
    "classifiers_oversampling_ada={'knn_ada':knn_ada_grid ,\n",
    "             'logreg_ada':logreg_ada_grid,\n",
    "             'lsvc_ada':lsvc_ada_grid,\n",
    "             'ksvc_rbf_ada':ksvcRbf_ada_grid,\n",
    "             'ksvc_ada_Sigm':ksvcSigm_ada_grid,\n",
    "             'dtree_ada':dtree_ada_grid,\n",
    "             'rfc_ada': rfc_ada_grid,\n",
    "             'xgbc_ada': xgbc_ada_grid,\n",
    "            'ee_ada':ee_ada_grid}"
   ]
  },
  {
   "cell_type": "code",
   "execution_count": 820,
   "metadata": {
    "ExecuteTime": {
     "end_time": "2020-05-04T04:45:53.192248Z",
     "start_time": "2020-05-04T04:45:53.172303Z"
    }
   },
   "outputs": [
    {
     "data": {
      "text/plain": [
       "dict_keys(['knn_ada', 'logreg_ada', 'lsvc_ada', 'ksvc_rbf_ada', 'ksvc_ada_Sigm', 'dtree_ada', 'rfc_ada', 'xgbc_ada', 'ee_ada'])"
      ]
     },
     "execution_count": 820,
     "metadata": {},
     "output_type": "execute_result"
    }
   ],
   "source": [
    "classifiers_oversampling_ada.keys()"
   ]
  },
  {
   "cell_type": "code",
   "execution_count": 821,
   "metadata": {
    "ExecuteTime": {
     "end_time": "2020-05-04T04:45:55.267221Z",
     "start_time": "2020-05-04T04:45:55.252263Z"
    }
   },
   "outputs": [],
   "source": [
    "results_mean_std = []\n",
    "for  key, value in classifiers_oversampling_ada.items():\n",
    "    mean = value.cv_results_['mean_test_score'][value.best_index_]\n",
    "    std=value.cv_results_['std_test_score'][value.best_index_]\n",
    "     \n",
    "    results_mean_std.append({\n",
    "        \"model\": key,\n",
    "        \"mean\": mean,\n",
    "        \"std\": std\n",
    "    })"
   ]
  },
  {
   "cell_type": "code",
   "execution_count": 822,
   "metadata": {
    "ExecuteTime": {
     "end_time": "2020-05-04T04:45:57.309944Z",
     "start_time": "2020-05-04T04:45:57.291990Z"
    }
   },
   "outputs": [],
   "source": [
    "# Create a Pandas DataFrame with the mean+std results\n",
    "accuracy_df = pd.DataFrame(results_mean_std, columns=['model', 'mean', 'std'])\n"
   ]
  },
  {
   "cell_type": "code",
   "execution_count": 823,
   "metadata": {
    "ExecuteTime": {
     "end_time": "2020-05-04T04:45:59.281498Z",
     "start_time": "2020-05-04T04:45:59.247551Z"
    }
   },
   "outputs": [
    {
     "data": {
      "text/html": [
       "<div>\n",
       "<style scoped>\n",
       "    .dataframe tbody tr th:only-of-type {\n",
       "        vertical-align: middle;\n",
       "    }\n",
       "\n",
       "    .dataframe tbody tr th {\n",
       "        vertical-align: top;\n",
       "    }\n",
       "\n",
       "    .dataframe thead th {\n",
       "        text-align: right;\n",
       "    }\n",
       "</style>\n",
       "<table border=\"1\" class=\"dataframe\">\n",
       "  <thead>\n",
       "    <tr style=\"text-align: right;\">\n",
       "      <th></th>\n",
       "      <th>model</th>\n",
       "      <th>mean</th>\n",
       "      <th>std</th>\n",
       "    </tr>\n",
       "  </thead>\n",
       "  <tbody>\n",
       "    <tr>\n",
       "      <th>7</th>\n",
       "      <td>xgbc_ada</td>\n",
       "      <td>0.805749</td>\n",
       "      <td>0.090587</td>\n",
       "    </tr>\n",
       "    <tr>\n",
       "      <th>6</th>\n",
       "      <td>rfc_ada</td>\n",
       "      <td>0.719385</td>\n",
       "      <td>0.080340</td>\n",
       "    </tr>\n",
       "    <tr>\n",
       "      <th>8</th>\n",
       "      <td>ee_ada</td>\n",
       "      <td>0.574357</td>\n",
       "      <td>0.071906</td>\n",
       "    </tr>\n",
       "    <tr>\n",
       "      <th>0</th>\n",
       "      <td>knn_ada</td>\n",
       "      <td>0.555668</td>\n",
       "      <td>0.056142</td>\n",
       "    </tr>\n",
       "    <tr>\n",
       "      <th>5</th>\n",
       "      <td>dtree_ada</td>\n",
       "      <td>0.499186</td>\n",
       "      <td>0.085073</td>\n",
       "    </tr>\n",
       "    <tr>\n",
       "      <th>3</th>\n",
       "      <td>ksvc_rbf_ada</td>\n",
       "      <td>0.290521</td>\n",
       "      <td>0.037135</td>\n",
       "    </tr>\n",
       "    <tr>\n",
       "      <th>1</th>\n",
       "      <td>logreg_ada</td>\n",
       "      <td>0.280965</td>\n",
       "      <td>0.027658</td>\n",
       "    </tr>\n",
       "    <tr>\n",
       "      <th>4</th>\n",
       "      <td>ksvc_ada_Sigm</td>\n",
       "      <td>0.279346</td>\n",
       "      <td>0.018392</td>\n",
       "    </tr>\n",
       "    <tr>\n",
       "      <th>2</th>\n",
       "      <td>lsvc_ada</td>\n",
       "      <td>0.277217</td>\n",
       "      <td>0.022856</td>\n",
       "    </tr>\n",
       "  </tbody>\n",
       "</table>\n",
       "</div>"
      ],
      "text/plain": [
       "           model      mean       std\n",
       "7       xgbc_ada  0.805749  0.090587\n",
       "6        rfc_ada  0.719385  0.080340\n",
       "8         ee_ada  0.574357  0.071906\n",
       "0        knn_ada  0.555668  0.056142\n",
       "5      dtree_ada  0.499186  0.085073\n",
       "3   ksvc_rbf_ada  0.290521  0.037135\n",
       "1     logreg_ada  0.280965  0.027658\n",
       "4  ksvc_ada_Sigm  0.279346  0.018392\n",
       "2       lsvc_ada  0.277217  0.022856"
      ]
     },
     "execution_count": 823,
     "metadata": {},
     "output_type": "execute_result"
    }
   ],
   "source": [
    "# Show the accuracy dataframe\n",
    "\n",
    "accuracy_df.sort_values(by=['mean'], inplace=True,ascending=False)\n",
    "accuracy_df"
   ]
  },
  {
   "cell_type": "code",
   "execution_count": null,
   "metadata": {},
   "outputs": [],
   "source": []
  },
  {
   "cell_type": "markdown",
   "metadata": {},
   "source": [
    "## Stacking"
   ]
  },
  {
   "cell_type": "code",
   "execution_count": 758,
   "metadata": {
    "ExecuteTime": {
     "end_time": "2020-05-04T03:08:10.015628Z",
     "start_time": "2020-05-04T02:55:29.741344Z"
    }
   },
   "outputs": [
    {
     "data": {
      "text/plain": [
       "GridSearchCV(cv=5, error_score=nan,\n",
       "             estimator=StackingClassifier(cv=None,\n",
       "                                          estimators=[('xgbc_ada',\n",
       "                                                       Pipeline(memory=None,\n",
       "                                                                steps=[('ada',\n",
       "                                                                        ADASYN(n_jobs=None,\n",
       "                                                                               n_neighbors=3,\n",
       "                                                                               random_state=None,\n",
       "                                                                               sampling_strategy='auto')),\n",
       "                                                                       ('xgbc',\n",
       "                                                                        XGBClassifier(base_score=0.5,\n",
       "                                                                                      booster=None,\n",
       "                                                                                      colsample_bylevel=1,\n",
       "                                                                                      colsample_bynode=1,\n",
       "                                                                                      colsample_bytree=1,\n",
       "                                                                                      early_stopping_rounds=2,\n",
       "                                                                                      gamma=0,\n",
       "                                                                                      gp...\n",
       "                                                                               gamma=0.001,\n",
       "                                                                               kernel='sigmoid',\n",
       "                                                                               max_iter=-1,\n",
       "                                                                               probability=True,\n",
       "                                                                               random_state=None,\n",
       "                                                                               shrinking=True,\n",
       "                                                                               tol=0.001,\n",
       "                                                                               verbose=False))],\n",
       "                                                                   verbose=False),\n",
       "                                          n_jobs=None, passthrough=False,\n",
       "                                          stack_method='auto', verbose=0),\n",
       "             iid='deprecated', n_jobs=None,\n",
       "             param_grid={'stack_method': ['auto', 'predict_proba']},\n",
       "             pre_dispatch='2*n_jobs', refit=True, return_train_score=True,\n",
       "             scoring='f1', verbose=0)"
      ]
     },
     "execution_count": 758,
     "metadata": {},
     "output_type": "execute_result"
    }
   ],
   "source": [
    "sclf3 = StackingClassifier(estimators=\n",
    "                              [('xgbc_ada', xgbc_ada_grid.best_estimator_), \n",
    "                               ('rfc_ada', rfc_ada_grid.best_estimator_), \n",
    "                               ('ee', ee_ada_grid.best_estimator_),\n",
    "                               \n",
    "                               ('knn_ada', knn_ada_grid.best_estimator_),\n",
    "                               ('ksvcSigm_ada_grid', ksvcSigm_ada_grid.best_estimator_),\n",
    "                              ], final_estimator=LogisticRegression())\n",
    "sclf2_param = {\n",
    "             # 'final_estimator__C' : [0.2,1,10,100],\n",
    "              'stack_method':['auto', 'predict_proba']\n",
    "             }\n",
    "sclf3_grid = GridSearchCV(sclf2, sclf2_param,cv=5, return_train_score=True,scoring='f1' )\n",
    "sclf3_grid.fit(X_train,y_train)"
   ]
  },
  {
   "cell_type": "code",
   "execution_count": 815,
   "metadata": {
    "ExecuteTime": {
     "end_time": "2020-05-04T03:51:04.561800Z",
     "start_time": "2020-05-04T03:51:00.005998Z"
    }
   },
   "outputs": [
    {
     "name": "stdout",
     "output_type": "stream",
     "text": [
      "Best Mean Cross Validation Score is 0.592196209587514\n",
      "Best Parameters: {'stack_method': 'auto'}\n",
      "Train score is 0.9257142857142857\n",
      "Test score is 0.525\n",
      "Val score is 0.6181818181818182\n"
     ]
    }
   ],
   "source": [
    "print(f'Best Mean Cross Validation Score is {sclf3_grid.best_score_}')\n",
    "print(f'Best Parameters: {sclf3_grid.best_params_}')\n",
    "print(f'Train score is {sclf3_grid.score(X_train,y_train)}')\n",
    "print(f'Test score is {sclf3_grid.score(X_test,y_test)}')\n",
    "print(f'Val score is {sclf3_grid.score(X_val,y_val)}')"
   ]
  },
  {
   "cell_type": "code",
   "execution_count": null,
   "metadata": {},
   "outputs": [],
   "source": []
  },
  {
   "cell_type": "code",
   "execution_count": null,
   "metadata": {},
   "outputs": [],
   "source": []
  },
  {
   "cell_type": "code",
   "execution_count": null,
   "metadata": {},
   "outputs": [],
   "source": []
  }
 ],
 "metadata": {
  "kernelspec": {
   "display_name": "buan6341_2020",
   "language": "python",
   "name": "buan6341_2020"
  },
  "language_info": {
   "codemirror_mode": {
    "name": "ipython",
    "version": 3
   },
   "file_extension": ".py",
   "mimetype": "text/x-python",
   "name": "python",
   "nbconvert_exporter": "python",
   "pygments_lexer": "ipython3",
   "version": "3.7.6"
  },
  "toc": {
   "base_numbering": 1,
   "nav_menu": {},
   "number_sections": true,
   "sideBar": false,
   "skip_h1_title": false,
   "title_cell": "Table of Contents",
   "title_sidebar": "Contents",
   "toc_cell": false,
   "toc_position": {
    "height": "656.433px",
    "left": "42px",
    "top": "106.767px",
    "width": "257.433px"
   },
   "toc_section_display": true,
   "toc_window_display": true
  }
 },
 "nbformat": 4,
 "nbformat_minor": 2
}
